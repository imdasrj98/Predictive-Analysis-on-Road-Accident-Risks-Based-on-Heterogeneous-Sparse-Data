{
  "nbformat": 4,
  "nbformat_minor": 0,
  "metadata": {
    "colab": {
      "name": "us_accident_training_based_on_weather_conditions.ipynb",
      "provenance": [],
      "collapsed_sections": [],
      "toc_visible": true,
      "mount_file_id": "1JffDDTLQqv_UlLQNeqpOE9eEbClV2zth",
      "authorship_tag": "ABX9TyPbj8W4NwiIP4iM8N8y8vwF",
      "include_colab_link": true
    },
    "kernelspec": {
      "name": "python3",
      "display_name": "Python 3"
    }
  },
  "cells": [
    {
      "cell_type": "markdown",
      "metadata": {
        "id": "view-in-github",
        "colab_type": "text"
      },
      "source": [
        "<a href=\"https://colab.research.google.com/github/imdasrj98/Predictive-Analysis-on-Road-Accident-Risks-Based-on-Heterogeneous-Sparse-Data/blob/master/us_accident_training_based_on_weather_conditions.ipynb\" target=\"_parent\"><img src=\"https://colab.research.google.com/assets/colab-badge.svg\" alt=\"Open In Colab\"/></a>"
      ]
    },
    {
      "cell_type": "code",
      "metadata": {
        "id": "fFNRNPw940hp",
        "colab_type": "code",
        "outputId": "75bfb265-4b63-4556-8dc4-0b1563d0251f",
        "colab": {
          "base_uri": "https://localhost:8080/",
          "height": 34
        }
      },
      "source": [
        "from google.colab import drive\n",
        "drive.mount('/content/drive')"
      ],
      "execution_count": 1,
      "outputs": [
        {
          "output_type": "stream",
          "text": [
            "Drive already mounted at /content/drive; to attempt to forcibly remount, call drive.mount(\"/content/drive\", force_remount=True).\n"
          ],
          "name": "stdout"
        }
      ]
    },
    {
      "cell_type": "code",
      "metadata": {
        "id": "twoyREa-5Xb9",
        "colab_type": "code",
        "outputId": "a788f750-311d-4c96-c87f-675f2b50718c",
        "colab": {
          "base_uri": "https://localhost:8080/",
          "height": 34
        }
      },
      "source": [
        "%cd \"/content/drive/My Drive/kaggle/data_mining\" "
      ],
      "execution_count": 2,
      "outputs": [
        {
          "output_type": "stream",
          "text": [
            "/content/drive/My Drive/kaggle/data_mining\n"
          ],
          "name": "stdout"
        }
      ]
    },
    {
      "cell_type": "code",
      "metadata": {
        "id": "AdUGEjR25vv4",
        "colab_type": "code",
        "outputId": "12d65636-dbb8-4b1d-e5b7-a809be100081",
        "colab": {
          "base_uri": "https://localhost:8080/",
          "height": 79
        }
      },
      "source": [
        "import pandas as pd\n",
        "import numpy as np\n",
        "import sklearn\n",
        "from keras.optimizers import SGD, RMSprop, Adadelta, Adagrad, Adam, Adamax\n",
        "from keras.models import Sequential\n",
        "from keras.layers.core import Dense, Activation, Flatten\n",
        "import keras\n",
        "from sklearn.model_selection import train_test_split\n",
        "from keras.utils import to_categorical"
      ],
      "execution_count": 3,
      "outputs": [
        {
          "output_type": "stream",
          "text": [
            "Using TensorFlow backend.\n"
          ],
          "name": "stderr"
        },
        {
          "output_type": "display_data",
          "data": {
            "text/html": [
              "<p style=\"color: red;\">\n",
              "The default version of TensorFlow in Colab will soon switch to TensorFlow 2.x.<br>\n",
              "We recommend you <a href=\"https://www.tensorflow.org/guide/migrate\" target=\"_blank\">upgrade</a> now \n",
              "or ensure your notebook will continue to use TensorFlow 1.x via the <code>%tensorflow_version 1.x</code> magic:\n",
              "<a href=\"https://colab.research.google.com/notebooks/tensorflow_version.ipynb\" target=\"_blank\">more info</a>.</p>\n"
            ],
            "text/plain": [
              "<IPython.core.display.HTML object>"
            ]
          },
          "metadata": {
            "tags": []
          }
        }
      ]
    },
    {
      "cell_type": "code",
      "metadata": {
        "id": "vIktbmGz5kNu",
        "colab_type": "code",
        "colab": {}
      },
      "source": [
        "df=pd.read_csv('preprocessed_data.csv')"
      ],
      "execution_count": 0,
      "outputs": []
    },
    {
      "cell_type": "code",
      "metadata": {
        "id": "hxt11kWO6YUL",
        "colab_type": "code",
        "outputId": "4bb7538d-b8dc-4f0b-bde8-b526dc8eae64",
        "colab": {
          "base_uri": "https://localhost:8080/",
          "height": 232
        }
      },
      "source": [
        "df.head()"
      ],
      "execution_count": 5,
      "outputs": [
        {
          "output_type": "execute_result",
          "data": {
            "text/html": [
              "<div>\n",
              "<style scoped>\n",
              "    .dataframe tbody tr th:only-of-type {\n",
              "        vertical-align: middle;\n",
              "    }\n",
              "\n",
              "    .dataframe tbody tr th {\n",
              "        vertical-align: top;\n",
              "    }\n",
              "\n",
              "    .dataframe thead th {\n",
              "        text-align: right;\n",
              "    }\n",
              "</style>\n",
              "<table border=\"1\" class=\"dataframe\">\n",
              "  <thead>\n",
              "    <tr style=\"text-align: right;\">\n",
              "      <th></th>\n",
              "      <th>Unnamed: 0</th>\n",
              "      <th>Amenity</th>\n",
              "      <th>Astronomical_Twilight</th>\n",
              "      <th>Bump</th>\n",
              "      <th>City</th>\n",
              "      <th>Civil_Twilight</th>\n",
              "      <th>Country</th>\n",
              "      <th>County</th>\n",
              "      <th>Crossing</th>\n",
              "      <th>Give_Way</th>\n",
              "      <th>Humidity(%)</th>\n",
              "      <th>ID</th>\n",
              "      <th>Junction</th>\n",
              "      <th>Nautical_Twilight</th>\n",
              "      <th>No_Exit</th>\n",
              "      <th>Precipitation(in)</th>\n",
              "      <th>Pressure(in)</th>\n",
              "      <th>Railway</th>\n",
              "      <th>Roundabout</th>\n",
              "      <th>Severity</th>\n",
              "      <th>Side</th>\n",
              "      <th>Source</th>\n",
              "      <th>Start_Lat</th>\n",
              "      <th>Start_Lng</th>\n",
              "      <th>State</th>\n",
              "      <th>Station</th>\n",
              "      <th>Stop</th>\n",
              "      <th>Street</th>\n",
              "      <th>Sunrise_Sunset</th>\n",
              "      <th>Temperature(F)</th>\n",
              "      <th>Traffic_Calming</th>\n",
              "      <th>Traffic_Signal</th>\n",
              "      <th>Turning_Loop</th>\n",
              "      <th>Visibility(mi)</th>\n",
              "      <th>Weather_Condition</th>\n",
              "      <th>Wind_Chill(F)</th>\n",
              "      <th>Wind_Direction</th>\n",
              "      <th>Wind_Speed(mph)</th>\n",
              "      <th>Zipcode</th>\n",
              "      <th>day</th>\n",
              "      <th>hour</th>\n",
              "      <th>month</th>\n",
              "      <th>year</th>\n",
              "    </tr>\n",
              "  </thead>\n",
              "  <tbody>\n",
              "    <tr>\n",
              "      <th>0</th>\n",
              "      <td>0</td>\n",
              "      <td>0</td>\n",
              "      <td>1</td>\n",
              "      <td>0</td>\n",
              "      <td>2480</td>\n",
              "      <td>1</td>\n",
              "      <td>0</td>\n",
              "      <td>1038</td>\n",
              "      <td>0</td>\n",
              "      <td>0</td>\n",
              "      <td>91.0</td>\n",
              "      <td>0</td>\n",
              "      <td>0</td>\n",
              "      <td>1</td>\n",
              "      <td>0</td>\n",
              "      <td>0.02</td>\n",
              "      <td>29.68</td>\n",
              "      <td>0</td>\n",
              "      <td>0</td>\n",
              "      <td>3</td>\n",
              "      <td>2</td>\n",
              "      <td>1</td>\n",
              "      <td>39.865147</td>\n",
              "      <td>-84.058723</td>\n",
              "      <td>33</td>\n",
              "      <td>0</td>\n",
              "      <td>0</td>\n",
              "      <td>79171</td>\n",
              "      <td>1</td>\n",
              "      <td>36.9</td>\n",
              "      <td>0</td>\n",
              "      <td>0</td>\n",
              "      <td>0</td>\n",
              "      <td>10.0</td>\n",
              "      <td>52</td>\n",
              "      <td>6.963939</td>\n",
              "      <td>1</td>\n",
              "      <td>9.77103</td>\n",
              "      <td>195786</td>\n",
              "      <td>8.0</td>\n",
              "      <td>5.0</td>\n",
              "      <td>2.0</td>\n",
              "      <td>2016.0</td>\n",
              "    </tr>\n",
              "    <tr>\n",
              "      <th>1</th>\n",
              "      <td>1</td>\n",
              "      <td>0</td>\n",
              "      <td>0</td>\n",
              "      <td>0</td>\n",
              "      <td>11096</td>\n",
              "      <td>0</td>\n",
              "      <td>0</td>\n",
              "      <td>546</td>\n",
              "      <td>0</td>\n",
              "      <td>0</td>\n",
              "      <td>100.0</td>\n",
              "      <td>1</td>\n",
              "      <td>0</td>\n",
              "      <td>0</td>\n",
              "      <td>0</td>\n",
              "      <td>0.02</td>\n",
              "      <td>29.62</td>\n",
              "      <td>0</td>\n",
              "      <td>0</td>\n",
              "      <td>3</td>\n",
              "      <td>2</td>\n",
              "      <td>1</td>\n",
              "      <td>40.100590</td>\n",
              "      <td>-82.925194</td>\n",
              "      <td>33</td>\n",
              "      <td>0</td>\n",
              "      <td>0</td>\n",
              "      <td>154222</td>\n",
              "      <td>0</td>\n",
              "      <td>37.4</td>\n",
              "      <td>0</td>\n",
              "      <td>0</td>\n",
              "      <td>0</td>\n",
              "      <td>3.0</td>\n",
              "      <td>52</td>\n",
              "      <td>33.800000</td>\n",
              "      <td>15</td>\n",
              "      <td>4.60000</td>\n",
              "      <td>186616</td>\n",
              "      <td>8.0</td>\n",
              "      <td>8.0</td>\n",
              "      <td>2.0</td>\n",
              "      <td>2016.0</td>\n",
              "    </tr>\n",
              "    <tr>\n",
              "      <th>2</th>\n",
              "      <td>2</td>\n",
              "      <td>0</td>\n",
              "      <td>0</td>\n",
              "      <td>0</td>\n",
              "      <td>2480</td>\n",
              "      <td>0</td>\n",
              "      <td>0</td>\n",
              "      <td>1038</td>\n",
              "      <td>0</td>\n",
              "      <td>0</td>\n",
              "      <td>87.0</td>\n",
              "      <td>2</td>\n",
              "      <td>0</td>\n",
              "      <td>0</td>\n",
              "      <td>0</td>\n",
              "      <td>0.00</td>\n",
              "      <td>30.28</td>\n",
              "      <td>0</td>\n",
              "      <td>0</td>\n",
              "      <td>2</td>\n",
              "      <td>2</td>\n",
              "      <td>1</td>\n",
              "      <td>39.749916</td>\n",
              "      <td>-84.139359</td>\n",
              "      <td>33</td>\n",
              "      <td>0</td>\n",
              "      <td>0</td>\n",
              "      <td>143984</td>\n",
              "      <td>0</td>\n",
              "      <td>7.5</td>\n",
              "      <td>0</td>\n",
              "      <td>0</td>\n",
              "      <td>0</td>\n",
              "      <td>10.0</td>\n",
              "      <td>88</td>\n",
              "      <td>-1.100000</td>\n",
              "      <td>15</td>\n",
              "      <td>4.60000</td>\n",
              "      <td>194877</td>\n",
              "      <td>11.0</td>\n",
              "      <td>8.0</td>\n",
              "      <td>2.0</td>\n",
              "      <td>2016.0</td>\n",
              "    </tr>\n",
              "    <tr>\n",
              "      <th>3</th>\n",
              "      <td>3</td>\n",
              "      <td>0</td>\n",
              "      <td>0</td>\n",
              "      <td>0</td>\n",
              "      <td>3038</td>\n",
              "      <td>0</td>\n",
              "      <td>0</td>\n",
              "      <td>493</td>\n",
              "      <td>0</td>\n",
              "      <td>0</td>\n",
              "      <td>34.0</td>\n",
              "      <td>3</td>\n",
              "      <td>0</td>\n",
              "      <td>0</td>\n",
              "      <td>0</td>\n",
              "      <td>0.00</td>\n",
              "      <td>30.02</td>\n",
              "      <td>0</td>\n",
              "      <td>0</td>\n",
              "      <td>2</td>\n",
              "      <td>2</td>\n",
              "      <td>1</td>\n",
              "      <td>38.653061</td>\n",
              "      <td>-121.070541</td>\n",
              "      <td>3</td>\n",
              "      <td>0</td>\n",
              "      <td>0</td>\n",
              "      <td>85789</td>\n",
              "      <td>0</td>\n",
              "      <td>77.0</td>\n",
              "      <td>0</td>\n",
              "      <td>0</td>\n",
              "      <td>0</td>\n",
              "      <td>10.0</td>\n",
              "      <td>5</td>\n",
              "      <td>22.901463</td>\n",
              "      <td>16</td>\n",
              "      <td>3.50000</td>\n",
              "      <td>348295</td>\n",
              "      <td>23.0</td>\n",
              "      <td>10.0</td>\n",
              "      <td>6.0</td>\n",
              "      <td>2016.0</td>\n",
              "    </tr>\n",
              "    <tr>\n",
              "      <th>4</th>\n",
              "      <td>4</td>\n",
              "      <td>0</td>\n",
              "      <td>0</td>\n",
              "      <td>0</td>\n",
              "      <td>11058</td>\n",
              "      <td>0</td>\n",
              "      <td>0</td>\n",
              "      <td>1698</td>\n",
              "      <td>0</td>\n",
              "      <td>0</td>\n",
              "      <td>71.0</td>\n",
              "      <td>4</td>\n",
              "      <td>0</td>\n",
              "      <td>0</td>\n",
              "      <td>0</td>\n",
              "      <td>0.00</td>\n",
              "      <td>30.09</td>\n",
              "      <td>0</td>\n",
              "      <td>0</td>\n",
              "      <td>3</td>\n",
              "      <td>2</td>\n",
              "      <td>1</td>\n",
              "      <td>38.574406</td>\n",
              "      <td>-121.577354</td>\n",
              "      <td>3</td>\n",
              "      <td>0</td>\n",
              "      <td>0</td>\n",
              "      <td>79215</td>\n",
              "      <td>0</td>\n",
              "      <td>46.0</td>\n",
              "      <td>0</td>\n",
              "      <td>0</td>\n",
              "      <td>0</td>\n",
              "      <td>10.0</td>\n",
              "      <td>5</td>\n",
              "      <td>41.900000</td>\n",
              "      <td>10</td>\n",
              "      <td>8.10000</td>\n",
              "      <td>347863</td>\n",
              "      <td>6.0</td>\n",
              "      <td>16.0</td>\n",
              "      <td>1.0</td>\n",
              "      <td>2017.0</td>\n",
              "    </tr>\n",
              "  </tbody>\n",
              "</table>\n",
              "</div>"
            ],
            "text/plain": [
              "   Unnamed: 0  Amenity  Astronomical_Twilight  Bump  ...   day  hour  month    year\n",
              "0           0        0                      1     0  ...   8.0   5.0    2.0  2016.0\n",
              "1           1        0                      0     0  ...   8.0   8.0    2.0  2016.0\n",
              "2           2        0                      0     0  ...  11.0   8.0    2.0  2016.0\n",
              "3           3        0                      0     0  ...  23.0  10.0    6.0  2016.0\n",
              "4           4        0                      0     0  ...   6.0  16.0    1.0  2017.0\n",
              "\n",
              "[5 rows x 43 columns]"
            ]
          },
          "metadata": {
            "tags": []
          },
          "execution_count": 5
        }
      ]
    },
    {
      "cell_type": "code",
      "metadata": {
        "id": "t9svtJAi6aVC",
        "colab_type": "code",
        "outputId": "fe4b13fc-c5dc-4812-abee-334d9b3b412c",
        "colab": {
          "base_uri": "https://localhost:8080/",
          "height": 185
        }
      },
      "source": [
        "df.columns"
      ],
      "execution_count": 6,
      "outputs": [
        {
          "output_type": "execute_result",
          "data": {
            "text/plain": [
              "Index(['Unnamed: 0', 'Amenity', 'Astronomical_Twilight', 'Bump', 'City',\n",
              "       'Civil_Twilight', 'Country', 'County', 'Crossing', 'Give_Way',\n",
              "       'Humidity(%)', 'ID', 'Junction', 'Nautical_Twilight', 'No_Exit',\n",
              "       'Precipitation(in)', 'Pressure(in)', 'Railway', 'Roundabout',\n",
              "       'Severity', 'Side', 'Source', 'Start_Lat', 'Start_Lng', 'State',\n",
              "       'Station', 'Stop', 'Street', 'Sunrise_Sunset', 'Temperature(F)',\n",
              "       'Traffic_Calming', 'Traffic_Signal', 'Turning_Loop', 'Visibility(mi)',\n",
              "       'Weather_Condition', 'Wind_Chill(F)', 'Wind_Direction',\n",
              "       'Wind_Speed(mph)', 'Zipcode', 'day', 'hour', 'month', 'year'],\n",
              "      dtype='object')"
            ]
          },
          "metadata": {
            "tags": []
          },
          "execution_count": 6
        }
      ]
    },
    {
      "cell_type": "code",
      "metadata": {
        "id": "iXXU1fbK6cTg",
        "colab_type": "code",
        "colab": {}
      },
      "source": [
        "data=df[['Astronomical_Twilight', 'Civil_Twilight', 'Humidity(%)', 'Nautical_Twilight', 'Precipitation(in)', 'Pressure(in)', 'Sunrise_Sunset', 'Temperature(F)', 'Visibility(mi)', 'Weather_Condition', 'Wind_Chill(F)', 'Wind_Direction', 'Wind_Speed(mph)', 'Severity']].values"
      ],
      "execution_count": 0,
      "outputs": []
    },
    {
      "cell_type": "code",
      "metadata": {
        "id": "euiLaMa3-FzJ",
        "colab_type": "code",
        "colab": {}
      },
      "source": [
        "x=data[:, 0: 13]\n",
        "y=data[:, 13]"
      ],
      "execution_count": 0,
      "outputs": []
    },
    {
      "cell_type": "code",
      "metadata": {
        "id": "qFvqhvb05uGZ",
        "colab_type": "code",
        "colab": {}
      },
      "source": [
        "xtrain, xtest, ytrain, ytest=train_test_split(x, y, test_size=.2)"
      ],
      "execution_count": 0,
      "outputs": []
    },
    {
      "cell_type": "code",
      "metadata": {
        "id": "OOk4sJOE_vBE",
        "colab_type": "code",
        "colab": {}
      },
      "source": [
        "ytrain = to_categorical(ytrain.astype('float32'))"
      ],
      "execution_count": 0,
      "outputs": []
    },
    {
      "cell_type": "code",
      "metadata": {
        "id": "sw6L8-eH7Ztp",
        "colab_type": "code",
        "outputId": "dbaff355-e393-49c0-87dc-5bc9d67c99d1",
        "colab": {
          "base_uri": "https://localhost:8080/",
          "height": 373
        }
      },
      "source": [
        "model = Sequential()\n",
        "model.add(Dense(25, input_dim=13, activation= \"sigmoid\"))\n",
        "model.add(Dense(50, activation= \"sigmoid\"))\n",
        "model.add(Dense(5, activation=\"sigmoid\"))\n",
        "model.summary() "
      ],
      "execution_count": 11,
      "outputs": [
        {
          "output_type": "stream",
          "text": [
            "WARNING:tensorflow:From /usr/local/lib/python3.6/dist-packages/keras/backend/tensorflow_backend.py:66: The name tf.get_default_graph is deprecated. Please use tf.compat.v1.get_default_graph instead.\n",
            "\n",
            "WARNING:tensorflow:From /usr/local/lib/python3.6/dist-packages/keras/backend/tensorflow_backend.py:541: The name tf.placeholder is deprecated. Please use tf.compat.v1.placeholder instead.\n",
            "\n",
            "WARNING:tensorflow:From /usr/local/lib/python3.6/dist-packages/keras/backend/tensorflow_backend.py:4432: The name tf.random_uniform is deprecated. Please use tf.random.uniform instead.\n",
            "\n",
            "Model: \"sequential_1\"\n",
            "_________________________________________________________________\n",
            "Layer (type)                 Output Shape              Param #   \n",
            "=================================================================\n",
            "dense_1 (Dense)              (None, 25)                350       \n",
            "_________________________________________________________________\n",
            "dense_2 (Dense)              (None, 50)                1300      \n",
            "_________________________________________________________________\n",
            "dense_3 (Dense)              (None, 5)                 255       \n",
            "=================================================================\n",
            "Total params: 1,905\n",
            "Trainable params: 1,905\n",
            "Non-trainable params: 0\n",
            "_________________________________________________________________\n"
          ],
          "name": "stdout"
        }
      ]
    },
    {
      "cell_type": "code",
      "metadata": {
        "id": "uVPyLpJz7kSm",
        "colab_type": "code",
        "colab": {
          "base_uri": "https://localhost:8080/",
          "height": 104
        },
        "outputId": "85d19b82-a93e-47de-e9cd-3c5203fa7947"
      },
      "source": [
        "opt = SGD()\n",
        "model.compile(loss='categorical_crossentropy', optimizer=opt,  metrics=['accuracy'])"
      ],
      "execution_count": 12,
      "outputs": [
        {
          "output_type": "stream",
          "text": [
            "WARNING:tensorflow:From /usr/local/lib/python3.6/dist-packages/keras/optimizers.py:793: The name tf.train.Optimizer is deprecated. Please use tf.compat.v1.train.Optimizer instead.\n",
            "\n",
            "WARNING:tensorflow:From /usr/local/lib/python3.6/dist-packages/keras/backend/tensorflow_backend.py:3576: The name tf.log is deprecated. Please use tf.math.log instead.\n",
            "\n"
          ],
          "name": "stdout"
        }
      ]
    },
    {
      "cell_type": "code",
      "metadata": {
        "id": "0KkPnHm3755E",
        "colab_type": "code",
        "outputId": "4a9b0338-8a63-498b-e2ad-757e498c45df",
        "colab": {
          "base_uri": "https://localhost:8080/",
          "height": 742
        }
      },
      "source": [
        "model.fit(xtrain, ytrain, nb_epoch=10, batch_size=32)"
      ],
      "execution_count": 14,
      "outputs": [
        {
          "output_type": "stream",
          "text": [
            "WARNING:tensorflow:From /usr/local/lib/python3.6/dist-packages/tensorflow_core/python/ops/math_grad.py:1424: where (from tensorflow.python.ops.array_ops) is deprecated and will be removed in a future version.\n",
            "Instructions for updating:\n",
            "Use tf.where in 2.0, which has the same broadcast rule as np.where\n",
            "WARNING:tensorflow:From /usr/local/lib/python3.6/dist-packages/keras/backend/tensorflow_backend.py:1033: The name tf.assign_add is deprecated. Please use tf.compat.v1.assign_add instead.\n",
            "\n",
            "WARNING:tensorflow:From /usr/local/lib/python3.6/dist-packages/keras/backend/tensorflow_backend.py:1020: The name tf.assign is deprecated. Please use tf.compat.v1.assign instead.\n",
            "\n",
            "WARNING:tensorflow:From /usr/local/lib/python3.6/dist-packages/keras/backend/tensorflow_backend.py:3005: The name tf.Session is deprecated. Please use tf.compat.v1.Session instead.\n",
            "\n"
          ],
          "name": "stdout"
        },
        {
          "output_type": "stream",
          "text": [
            "/usr/local/lib/python3.6/dist-packages/ipykernel_launcher.py:1: UserWarning: The `nb_epoch` argument in `fit` has been renamed `epochs`.\n",
            "  \"\"\"Entry point for launching an IPython kernel.\n"
          ],
          "name": "stderr"
        },
        {
          "output_type": "stream",
          "text": [
            "Epoch 1/10\n",
            "WARNING:tensorflow:From /usr/local/lib/python3.6/dist-packages/keras/backend/tensorflow_backend.py:190: The name tf.get_default_session is deprecated. Please use tf.compat.v1.get_default_session instead.\n",
            "\n",
            "WARNING:tensorflow:From /usr/local/lib/python3.6/dist-packages/keras/backend/tensorflow_backend.py:197: The name tf.ConfigProto is deprecated. Please use tf.compat.v1.ConfigProto instead.\n",
            "\n",
            "WARNING:tensorflow:From /usr/local/lib/python3.6/dist-packages/keras/backend/tensorflow_backend.py:207: The name tf.global_variables is deprecated. Please use tf.compat.v1.global_variables instead.\n",
            "\n",
            "WARNING:tensorflow:From /usr/local/lib/python3.6/dist-packages/keras/backend/tensorflow_backend.py:216: The name tf.is_variable_initialized is deprecated. Please use tf.compat.v1.is_variable_initialized instead.\n",
            "\n",
            "WARNING:tensorflow:From /usr/local/lib/python3.6/dist-packages/keras/backend/tensorflow_backend.py:223: The name tf.variables_initializer is deprecated. Please use tf.compat.v1.variables_initializer instead.\n",
            "\n",
            "2322377/2322377 [==============================] - 83s 36us/step - loss: 0.7374 - acc: 0.6711\n",
            "Epoch 2/10\n",
            "2322377/2322377 [==============================] - 83s 36us/step - loss: 0.7343 - acc: 0.6711\n",
            "Epoch 3/10\n",
            "2322377/2322377 [==============================] - 83s 36us/step - loss: 0.7337 - acc: 0.6711\n",
            "Epoch 4/10\n",
            "2322377/2322377 [==============================] - 83s 36us/step - loss: 0.7332 - acc: 0.6711\n",
            "Epoch 5/10\n",
            "2322377/2322377 [==============================] - 83s 36us/step - loss: 0.7328 - acc: 0.6711\n",
            "Epoch 6/10\n",
            "2322377/2322377 [==============================] - 84s 36us/step - loss: 0.7325 - acc: 0.6711\n",
            "Epoch 7/10\n",
            "2322377/2322377 [==============================] - 83s 36us/step - loss: 0.7323 - acc: 0.6711\n",
            "Epoch 8/10\n",
            "2322377/2322377 [==============================] - 85s 36us/step - loss: 0.7319 - acc: 0.6711\n",
            "Epoch 9/10\n",
            "2322377/2322377 [==============================] - 86s 37us/step - loss: 0.7308 - acc: 0.6711\n",
            "Epoch 10/10\n",
            "2322377/2322377 [==============================] - 84s 36us/step - loss: 0.7300 - acc: 0.6711\n"
          ],
          "name": "stdout"
        },
        {
          "output_type": "execute_result",
          "data": {
            "text/plain": [
              "<keras.callbacks.History at 0x7fac8392c630>"
            ]
          },
          "metadata": {
            "tags": []
          },
          "execution_count": 14
        }
      ]
    },
    {
      "cell_type": "code",
      "metadata": {
        "id": "DtrZxwKhxuf5",
        "colab_type": "code",
        "colab": {}
      },
      "source": [
        "model.save(\"train2.model\")"
      ],
      "execution_count": 0,
      "outputs": []
    },
    {
      "cell_type": "code",
      "metadata": {
        "id": "ubfMTRQgx1E7",
        "colab_type": "code",
        "colab": {}
      },
      "source": [
        "#run this if want to work with pre trained model\n",
        "#model=keras.models.load_model(\"train1.model\")"
      ],
      "execution_count": 0,
      "outputs": []
    },
    {
      "cell_type": "code",
      "metadata": {
        "id": "4PnGN6ZHHHfj",
        "colab_type": "code",
        "colab": {}
      },
      "source": [
        "ytest = to_categorical(ytest.astype('float32'))"
      ],
      "execution_count": 0,
      "outputs": []
    },
    {
      "cell_type": "code",
      "metadata": {
        "id": "DM4yVAQVFo9P",
        "colab_type": "code",
        "colab": {
          "base_uri": "https://localhost:8080/",
          "height": 34
        },
        "outputId": "f4168d0e-342e-4493-bf74-17be29dc10e7"
      },
      "source": [
        "score, acc = model.evaluate(xtest, ytest)"
      ],
      "execution_count": 17,
      "outputs": [
        {
          "output_type": "stream",
          "text": [
            "580595/580595 [==============================] - 10s 18us/step\n"
          ],
          "name": "stdout"
        }
      ]
    },
    {
      "cell_type": "code",
      "metadata": {
        "id": "rSUEHc0cHEY6",
        "colab_type": "code",
        "colab": {
          "base_uri": "https://localhost:8080/",
          "height": 34
        },
        "outputId": "f5213481-9424-4500-b6ac-a20660ab363a"
      },
      "source": [
        "print(score)"
      ],
      "execution_count": 18,
      "outputs": [
        {
          "output_type": "stream",
          "text": [
            "0.726917832977671\n"
          ],
          "name": "stdout"
        }
      ]
    },
    {
      "cell_type": "code",
      "metadata": {
        "id": "UQVvjleGHU-k",
        "colab_type": "code",
        "colab": {
          "base_uri": "https://localhost:8080/",
          "height": 34
        },
        "outputId": "b714335d-5bdb-429c-b691-1152b5e506ef"
      },
      "source": [
        "print(acc*100)"
      ],
      "execution_count": 19,
      "outputs": [
        {
          "output_type": "stream",
          "text": [
            "67.2864905829724\n"
          ],
          "name": "stdout"
        }
      ]
    },
    {
      "cell_type": "code",
      "metadata": {
        "id": "taVixOoA1sqZ",
        "colab_type": "code",
        "colab": {}
      },
      "source": [
        "d=df[['Astronomical_Twilight', 'Civil_Twilight', 'Humidity(%)', 'Nautical_Twilight', 'Precipitation(in)', 'Pressure(in)', 'Sunrise_Sunset', 'Temperature(F)', 'Visibility(mi)', 'Weather_Condition', 'Wind_Chill(F)', 'Wind_Direction', 'Wind_Speed(mph)', 'Severity']]"
      ],
      "execution_count": 0,
      "outputs": []
    },
    {
      "cell_type": "code",
      "metadata": {
        "id": "VTryYg-a1yxV",
        "colab_type": "code",
        "colab": {
          "base_uri": "https://localhost:8080/",
          "height": 215
        },
        "outputId": "0f0acf48-9e97-4181-885a-960ca23a4182"
      },
      "source": [
        "d.head()"
      ],
      "execution_count": 21,
      "outputs": [
        {
          "output_type": "execute_result",
          "data": {
            "text/html": [
              "<div>\n",
              "<style scoped>\n",
              "    .dataframe tbody tr th:only-of-type {\n",
              "        vertical-align: middle;\n",
              "    }\n",
              "\n",
              "    .dataframe tbody tr th {\n",
              "        vertical-align: top;\n",
              "    }\n",
              "\n",
              "    .dataframe thead th {\n",
              "        text-align: right;\n",
              "    }\n",
              "</style>\n",
              "<table border=\"1\" class=\"dataframe\">\n",
              "  <thead>\n",
              "    <tr style=\"text-align: right;\">\n",
              "      <th></th>\n",
              "      <th>Astronomical_Twilight</th>\n",
              "      <th>Civil_Twilight</th>\n",
              "      <th>Humidity(%)</th>\n",
              "      <th>Nautical_Twilight</th>\n",
              "      <th>Precipitation(in)</th>\n",
              "      <th>Pressure(in)</th>\n",
              "      <th>Sunrise_Sunset</th>\n",
              "      <th>Temperature(F)</th>\n",
              "      <th>Visibility(mi)</th>\n",
              "      <th>Weather_Condition</th>\n",
              "      <th>Wind_Chill(F)</th>\n",
              "      <th>Wind_Direction</th>\n",
              "      <th>Wind_Speed(mph)</th>\n",
              "      <th>Severity</th>\n",
              "    </tr>\n",
              "  </thead>\n",
              "  <tbody>\n",
              "    <tr>\n",
              "      <th>0</th>\n",
              "      <td>1</td>\n",
              "      <td>1</td>\n",
              "      <td>91.0</td>\n",
              "      <td>1</td>\n",
              "      <td>0.02</td>\n",
              "      <td>29.68</td>\n",
              "      <td>1</td>\n",
              "      <td>36.9</td>\n",
              "      <td>10.0</td>\n",
              "      <td>52</td>\n",
              "      <td>6.963939</td>\n",
              "      <td>1</td>\n",
              "      <td>9.77103</td>\n",
              "      <td>3</td>\n",
              "    </tr>\n",
              "    <tr>\n",
              "      <th>1</th>\n",
              "      <td>0</td>\n",
              "      <td>0</td>\n",
              "      <td>100.0</td>\n",
              "      <td>0</td>\n",
              "      <td>0.02</td>\n",
              "      <td>29.62</td>\n",
              "      <td>0</td>\n",
              "      <td>37.4</td>\n",
              "      <td>3.0</td>\n",
              "      <td>52</td>\n",
              "      <td>33.800000</td>\n",
              "      <td>15</td>\n",
              "      <td>4.60000</td>\n",
              "      <td>3</td>\n",
              "    </tr>\n",
              "    <tr>\n",
              "      <th>2</th>\n",
              "      <td>0</td>\n",
              "      <td>0</td>\n",
              "      <td>87.0</td>\n",
              "      <td>0</td>\n",
              "      <td>0.00</td>\n",
              "      <td>30.28</td>\n",
              "      <td>0</td>\n",
              "      <td>7.5</td>\n",
              "      <td>10.0</td>\n",
              "      <td>88</td>\n",
              "      <td>-1.100000</td>\n",
              "      <td>15</td>\n",
              "      <td>4.60000</td>\n",
              "      <td>2</td>\n",
              "    </tr>\n",
              "    <tr>\n",
              "      <th>3</th>\n",
              "      <td>0</td>\n",
              "      <td>0</td>\n",
              "      <td>34.0</td>\n",
              "      <td>0</td>\n",
              "      <td>0.00</td>\n",
              "      <td>30.02</td>\n",
              "      <td>0</td>\n",
              "      <td>77.0</td>\n",
              "      <td>10.0</td>\n",
              "      <td>5</td>\n",
              "      <td>22.901463</td>\n",
              "      <td>16</td>\n",
              "      <td>3.50000</td>\n",
              "      <td>2</td>\n",
              "    </tr>\n",
              "    <tr>\n",
              "      <th>4</th>\n",
              "      <td>0</td>\n",
              "      <td>0</td>\n",
              "      <td>71.0</td>\n",
              "      <td>0</td>\n",
              "      <td>0.00</td>\n",
              "      <td>30.09</td>\n",
              "      <td>0</td>\n",
              "      <td>46.0</td>\n",
              "      <td>10.0</td>\n",
              "      <td>5</td>\n",
              "      <td>41.900000</td>\n",
              "      <td>10</td>\n",
              "      <td>8.10000</td>\n",
              "      <td>3</td>\n",
              "    </tr>\n",
              "  </tbody>\n",
              "</table>\n",
              "</div>"
            ],
            "text/plain": [
              "   Astronomical_Twilight  Civil_Twilight  ...  Wind_Speed(mph)  Severity\n",
              "0                      1               1  ...          9.77103         3\n",
              "1                      0               0  ...          4.60000         3\n",
              "2                      0               0  ...          4.60000         2\n",
              "3                      0               0  ...          3.50000         2\n",
              "4                      0               0  ...          8.10000         3\n",
              "\n",
              "[5 rows x 14 columns]"
            ]
          },
          "metadata": {
            "tags": []
          },
          "execution_count": 21
        }
      ]
    },
    {
      "cell_type": "code",
      "metadata": {
        "id": "-2JI9auk058v",
        "colab_type": "code",
        "colab": {}
      },
      "source": [
        "predx=np.array([[1, 0, 56.0, 0, 0.03, 30.09, 0, 90.78, 7.0, 7, 23.90, 7, 8.9]])"
      ],
      "execution_count": 0,
      "outputs": []
    },
    {
      "cell_type": "code",
      "metadata": {
        "id": "hz4sT8ZH2nqJ",
        "colab_type": "code",
        "colab": {}
      },
      "source": [
        "ypred=model.predict(predx).reshape(-1)"
      ],
      "execution_count": 0,
      "outputs": []
    },
    {
      "cell_type": "code",
      "metadata": {
        "id": "U38nRM452qPr",
        "colab_type": "code",
        "colab": {
          "base_uri": "https://localhost:8080/",
          "height": 34
        },
        "outputId": "d2557b81-424b-463b-8029-1b8ef36515ce"
      },
      "source": [
        "print(\"calss : \", np.argmax(ypred))"
      ],
      "execution_count": 27,
      "outputs": [
        {
          "output_type": "stream",
          "text": [
            "calss :  2\n"
          ],
          "name": "stdout"
        }
      ]
    },
    {
      "cell_type": "code",
      "metadata": {
        "id": "Y9pvAlpH3Has",
        "colab_type": "code",
        "colab": {}
      },
      "source": [
        ""
      ],
      "execution_count": 0,
      "outputs": []
    }
  ]
}