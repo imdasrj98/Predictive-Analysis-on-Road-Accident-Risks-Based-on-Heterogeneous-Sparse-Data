{
  "nbformat": 4,
  "nbformat_minor": 0,
  "metadata": {
    "colab": {
      "name": "us_accident_preprocess.ipynb",
      "provenance": [],
      "collapsed_sections": [],
      "toc_visible": true,
      "mount_file_id": "18JmpOy-0TxWs8XjeASTgEGgB8bOb-kcS",
      "authorship_tag": "ABX9TyND4H0hCCHw9d+EkpdmPVDm",
      "include_colab_link": true
    },
    "kernelspec": {
      "name": "python3",
      "display_name": "Python 3"
    },
    "accelerator": "GPU"
  },
  "cells": [
    {
      "cell_type": "markdown",
      "metadata": {
        "id": "view-in-github",
        "colab_type": "text"
      },
      "source": [
        "<a href=\"https://colab.research.google.com/github/imdasrj98/Predictive-Analysis-on-Road-Accident-Risks-Based-on-Heterogeneous-Sparse-Data/blob/master/us_accident_preprocess.ipynb\" target=\"_parent\"><img src=\"https://colab.research.google.com/assets/colab-badge.svg\" alt=\"Open In Colab\"/></a>"
      ]
    },
    {
      "cell_type": "code",
      "metadata": {
        "id": "XC8W3arI5QNB",
        "colab_type": "code",
        "colab": {
          "base_uri": "https://localhost:8080/",
          "height": 34
        },
        "outputId": "e53725f8-3f26-41d4-8bc0-fd284fe6aae3"
      },
      "source": [
        "#run this cell if working in colabs\n",
        "\n",
        "%cd \"/content/drive/My Drive/kaggle/data_mining\" "
      ],
      "execution_count": 1,
      "outputs": [
        {
          "output_type": "stream",
          "text": [
            "/content/drive/My Drive/kaggle/data_mining\n"
          ],
          "name": "stdout"
        }
      ]
    },
    {
      "cell_type": "code",
      "metadata": {
        "id": "mG0pamMQ5i3i",
        "colab_type": "code",
        "colab": {}
      },
      "source": [
        "#initial libraries loading\n",
        "\n",
        "import pandas as pd\n",
        "import numpy as np\n",
        "import sklearn\n"
      ],
      "execution_count": 0,
      "outputs": []
    },
    {
      "cell_type": "code",
      "metadata": {
        "id": "eMbAkdPS5xMK",
        "colab_type": "code",
        "colab": {}
      },
      "source": [
        "#data loading\n",
        "\n",
        "df=pd.read_csv(\"US_Accidents_Dec19.csv\")"
      ],
      "execution_count": 0,
      "outputs": []
    },
    {
      "cell_type": "code",
      "metadata": {
        "id": "z0k9chiE56HT",
        "colab_type": "code",
        "colab": {
          "base_uri": "https://localhost:8080/",
          "height": 518
        },
        "outputId": "550b0710-784f-4815-c3cc-c1c0c7973c9d"
      },
      "source": [
        "df.head()"
      ],
      "execution_count": 4,
      "outputs": [
        {
          "output_type": "execute_result",
          "data": {
            "text/html": [
              "<div>\n",
              "<style scoped>\n",
              "    .dataframe tbody tr th:only-of-type {\n",
              "        vertical-align: middle;\n",
              "    }\n",
              "\n",
              "    .dataframe tbody tr th {\n",
              "        vertical-align: top;\n",
              "    }\n",
              "\n",
              "    .dataframe thead th {\n",
              "        text-align: right;\n",
              "    }\n",
              "</style>\n",
              "<table border=\"1\" class=\"dataframe\">\n",
              "  <thead>\n",
              "    <tr style=\"text-align: right;\">\n",
              "      <th></th>\n",
              "      <th>ID</th>\n",
              "      <th>Source</th>\n",
              "      <th>TMC</th>\n",
              "      <th>Severity</th>\n",
              "      <th>Start_Time</th>\n",
              "      <th>End_Time</th>\n",
              "      <th>Start_Lat</th>\n",
              "      <th>Start_Lng</th>\n",
              "      <th>End_Lat</th>\n",
              "      <th>End_Lng</th>\n",
              "      <th>Distance(mi)</th>\n",
              "      <th>Description</th>\n",
              "      <th>Number</th>\n",
              "      <th>Street</th>\n",
              "      <th>Side</th>\n",
              "      <th>City</th>\n",
              "      <th>County</th>\n",
              "      <th>State</th>\n",
              "      <th>Zipcode</th>\n",
              "      <th>Country</th>\n",
              "      <th>Timezone</th>\n",
              "      <th>Airport_Code</th>\n",
              "      <th>Weather_Timestamp</th>\n",
              "      <th>Temperature(F)</th>\n",
              "      <th>Wind_Chill(F)</th>\n",
              "      <th>Humidity(%)</th>\n",
              "      <th>Pressure(in)</th>\n",
              "      <th>Visibility(mi)</th>\n",
              "      <th>Wind_Direction</th>\n",
              "      <th>Wind_Speed(mph)</th>\n",
              "      <th>Precipitation(in)</th>\n",
              "      <th>Weather_Condition</th>\n",
              "      <th>Amenity</th>\n",
              "      <th>Bump</th>\n",
              "      <th>Crossing</th>\n",
              "      <th>Give_Way</th>\n",
              "      <th>Junction</th>\n",
              "      <th>No_Exit</th>\n",
              "      <th>Railway</th>\n",
              "      <th>Roundabout</th>\n",
              "      <th>Station</th>\n",
              "      <th>Stop</th>\n",
              "      <th>Traffic_Calming</th>\n",
              "      <th>Traffic_Signal</th>\n",
              "      <th>Turning_Loop</th>\n",
              "      <th>Sunrise_Sunset</th>\n",
              "      <th>Civil_Twilight</th>\n",
              "      <th>Nautical_Twilight</th>\n",
              "      <th>Astronomical_Twilight</th>\n",
              "    </tr>\n",
              "  </thead>\n",
              "  <tbody>\n",
              "    <tr>\n",
              "      <th>0</th>\n",
              "      <td>A-1</td>\n",
              "      <td>MapQuest</td>\n",
              "      <td>201.0</td>\n",
              "      <td>3</td>\n",
              "      <td>2016-02-08 05:46:00</td>\n",
              "      <td>2016-02-08 11:00:00</td>\n",
              "      <td>39.865147</td>\n",
              "      <td>-84.058723</td>\n",
              "      <td>NaN</td>\n",
              "      <td>NaN</td>\n",
              "      <td>0.01</td>\n",
              "      <td>Right lane blocked due to accident on I-70 Eas...</td>\n",
              "      <td>NaN</td>\n",
              "      <td>I-70 E</td>\n",
              "      <td>R</td>\n",
              "      <td>Dayton</td>\n",
              "      <td>Montgomery</td>\n",
              "      <td>OH</td>\n",
              "      <td>45424</td>\n",
              "      <td>US</td>\n",
              "      <td>US/Eastern</td>\n",
              "      <td>KFFO</td>\n",
              "      <td>2016-02-08 05:58:00</td>\n",
              "      <td>36.9</td>\n",
              "      <td>NaN</td>\n",
              "      <td>91.0</td>\n",
              "      <td>29.68</td>\n",
              "      <td>10.0</td>\n",
              "      <td>Calm</td>\n",
              "      <td>NaN</td>\n",
              "      <td>0.02</td>\n",
              "      <td>Light Rain</td>\n",
              "      <td>False</td>\n",
              "      <td>False</td>\n",
              "      <td>False</td>\n",
              "      <td>False</td>\n",
              "      <td>False</td>\n",
              "      <td>False</td>\n",
              "      <td>False</td>\n",
              "      <td>False</td>\n",
              "      <td>False</td>\n",
              "      <td>False</td>\n",
              "      <td>False</td>\n",
              "      <td>False</td>\n",
              "      <td>False</td>\n",
              "      <td>Night</td>\n",
              "      <td>Night</td>\n",
              "      <td>Night</td>\n",
              "      <td>Night</td>\n",
              "    </tr>\n",
              "    <tr>\n",
              "      <th>1</th>\n",
              "      <td>A-2</td>\n",
              "      <td>MapQuest</td>\n",
              "      <td>201.0</td>\n",
              "      <td>2</td>\n",
              "      <td>2016-02-08 06:07:59</td>\n",
              "      <td>2016-02-08 06:37:59</td>\n",
              "      <td>39.928059</td>\n",
              "      <td>-82.831184</td>\n",
              "      <td>NaN</td>\n",
              "      <td>NaN</td>\n",
              "      <td>0.01</td>\n",
              "      <td>Accident on Brice Rd at Tussing Rd. Expect del...</td>\n",
              "      <td>2584.0</td>\n",
              "      <td>Brice Rd</td>\n",
              "      <td>L</td>\n",
              "      <td>Reynoldsburg</td>\n",
              "      <td>Franklin</td>\n",
              "      <td>OH</td>\n",
              "      <td>43068-3402</td>\n",
              "      <td>US</td>\n",
              "      <td>US/Eastern</td>\n",
              "      <td>KCMH</td>\n",
              "      <td>2016-02-08 05:51:00</td>\n",
              "      <td>37.9</td>\n",
              "      <td>NaN</td>\n",
              "      <td>100.0</td>\n",
              "      <td>29.65</td>\n",
              "      <td>10.0</td>\n",
              "      <td>Calm</td>\n",
              "      <td>NaN</td>\n",
              "      <td>0.00</td>\n",
              "      <td>Light Rain</td>\n",
              "      <td>False</td>\n",
              "      <td>False</td>\n",
              "      <td>False</td>\n",
              "      <td>False</td>\n",
              "      <td>False</td>\n",
              "      <td>False</td>\n",
              "      <td>False</td>\n",
              "      <td>False</td>\n",
              "      <td>False</td>\n",
              "      <td>False</td>\n",
              "      <td>False</td>\n",
              "      <td>False</td>\n",
              "      <td>False</td>\n",
              "      <td>Night</td>\n",
              "      <td>Night</td>\n",
              "      <td>Night</td>\n",
              "      <td>Day</td>\n",
              "    </tr>\n",
              "    <tr>\n",
              "      <th>2</th>\n",
              "      <td>A-3</td>\n",
              "      <td>MapQuest</td>\n",
              "      <td>201.0</td>\n",
              "      <td>2</td>\n",
              "      <td>2016-02-08 06:49:27</td>\n",
              "      <td>2016-02-08 07:19:27</td>\n",
              "      <td>39.063148</td>\n",
              "      <td>-84.032608</td>\n",
              "      <td>NaN</td>\n",
              "      <td>NaN</td>\n",
              "      <td>0.01</td>\n",
              "      <td>Accident on OH-32 State Route 32 Westbound at ...</td>\n",
              "      <td>NaN</td>\n",
              "      <td>State Route 32</td>\n",
              "      <td>R</td>\n",
              "      <td>Williamsburg</td>\n",
              "      <td>Clermont</td>\n",
              "      <td>OH</td>\n",
              "      <td>45176</td>\n",
              "      <td>US</td>\n",
              "      <td>US/Eastern</td>\n",
              "      <td>KI69</td>\n",
              "      <td>2016-02-08 06:56:00</td>\n",
              "      <td>36.0</td>\n",
              "      <td>33.3</td>\n",
              "      <td>100.0</td>\n",
              "      <td>29.67</td>\n",
              "      <td>10.0</td>\n",
              "      <td>SW</td>\n",
              "      <td>3.5</td>\n",
              "      <td>NaN</td>\n",
              "      <td>Overcast</td>\n",
              "      <td>False</td>\n",
              "      <td>False</td>\n",
              "      <td>False</td>\n",
              "      <td>False</td>\n",
              "      <td>False</td>\n",
              "      <td>False</td>\n",
              "      <td>False</td>\n",
              "      <td>False</td>\n",
              "      <td>False</td>\n",
              "      <td>False</td>\n",
              "      <td>False</td>\n",
              "      <td>True</td>\n",
              "      <td>False</td>\n",
              "      <td>Night</td>\n",
              "      <td>Night</td>\n",
              "      <td>Day</td>\n",
              "      <td>Day</td>\n",
              "    </tr>\n",
              "    <tr>\n",
              "      <th>3</th>\n",
              "      <td>A-4</td>\n",
              "      <td>MapQuest</td>\n",
              "      <td>201.0</td>\n",
              "      <td>3</td>\n",
              "      <td>2016-02-08 07:23:34</td>\n",
              "      <td>2016-02-08 07:53:34</td>\n",
              "      <td>39.747753</td>\n",
              "      <td>-84.205582</td>\n",
              "      <td>NaN</td>\n",
              "      <td>NaN</td>\n",
              "      <td>0.01</td>\n",
              "      <td>Accident on I-75 Southbound at Exits 52 52B US...</td>\n",
              "      <td>NaN</td>\n",
              "      <td>I-75 S</td>\n",
              "      <td>R</td>\n",
              "      <td>Dayton</td>\n",
              "      <td>Montgomery</td>\n",
              "      <td>OH</td>\n",
              "      <td>45417</td>\n",
              "      <td>US</td>\n",
              "      <td>US/Eastern</td>\n",
              "      <td>KDAY</td>\n",
              "      <td>2016-02-08 07:38:00</td>\n",
              "      <td>35.1</td>\n",
              "      <td>31.0</td>\n",
              "      <td>96.0</td>\n",
              "      <td>29.64</td>\n",
              "      <td>9.0</td>\n",
              "      <td>SW</td>\n",
              "      <td>4.6</td>\n",
              "      <td>NaN</td>\n",
              "      <td>Mostly Cloudy</td>\n",
              "      <td>False</td>\n",
              "      <td>False</td>\n",
              "      <td>False</td>\n",
              "      <td>False</td>\n",
              "      <td>False</td>\n",
              "      <td>False</td>\n",
              "      <td>False</td>\n",
              "      <td>False</td>\n",
              "      <td>False</td>\n",
              "      <td>False</td>\n",
              "      <td>False</td>\n",
              "      <td>False</td>\n",
              "      <td>False</td>\n",
              "      <td>Night</td>\n",
              "      <td>Day</td>\n",
              "      <td>Day</td>\n",
              "      <td>Day</td>\n",
              "    </tr>\n",
              "    <tr>\n",
              "      <th>4</th>\n",
              "      <td>A-5</td>\n",
              "      <td>MapQuest</td>\n",
              "      <td>201.0</td>\n",
              "      <td>2</td>\n",
              "      <td>2016-02-08 07:39:07</td>\n",
              "      <td>2016-02-08 08:09:07</td>\n",
              "      <td>39.627781</td>\n",
              "      <td>-84.188354</td>\n",
              "      <td>NaN</td>\n",
              "      <td>NaN</td>\n",
              "      <td>0.01</td>\n",
              "      <td>Accident on McEwen Rd at OH-725 Miamisburg Cen...</td>\n",
              "      <td>NaN</td>\n",
              "      <td>Miamisburg Centerville Rd</td>\n",
              "      <td>R</td>\n",
              "      <td>Dayton</td>\n",
              "      <td>Montgomery</td>\n",
              "      <td>OH</td>\n",
              "      <td>45459</td>\n",
              "      <td>US</td>\n",
              "      <td>US/Eastern</td>\n",
              "      <td>KMGY</td>\n",
              "      <td>2016-02-08 07:53:00</td>\n",
              "      <td>36.0</td>\n",
              "      <td>33.3</td>\n",
              "      <td>89.0</td>\n",
              "      <td>29.65</td>\n",
              "      <td>6.0</td>\n",
              "      <td>SW</td>\n",
              "      <td>3.5</td>\n",
              "      <td>NaN</td>\n",
              "      <td>Mostly Cloudy</td>\n",
              "      <td>False</td>\n",
              "      <td>False</td>\n",
              "      <td>False</td>\n",
              "      <td>False</td>\n",
              "      <td>False</td>\n",
              "      <td>False</td>\n",
              "      <td>False</td>\n",
              "      <td>False</td>\n",
              "      <td>False</td>\n",
              "      <td>False</td>\n",
              "      <td>False</td>\n",
              "      <td>True</td>\n",
              "      <td>False</td>\n",
              "      <td>Day</td>\n",
              "      <td>Day</td>\n",
              "      <td>Day</td>\n",
              "      <td>Day</td>\n",
              "    </tr>\n",
              "  </tbody>\n",
              "</table>\n",
              "</div>"
            ],
            "text/plain": [
              "    ID    Source    TMC  ...  Civil_Twilight Nautical_Twilight Astronomical_Twilight\n",
              "0  A-1  MapQuest  201.0  ...           Night             Night                 Night\n",
              "1  A-2  MapQuest  201.0  ...           Night             Night                   Day\n",
              "2  A-3  MapQuest  201.0  ...           Night               Day                   Day\n",
              "3  A-4  MapQuest  201.0  ...             Day               Day                   Day\n",
              "4  A-5  MapQuest  201.0  ...             Day               Day                   Day\n",
              "\n",
              "[5 rows x 49 columns]"
            ]
          },
          "metadata": {
            "tags": []
          },
          "execution_count": 4
        }
      ]
    },
    {
      "cell_type": "code",
      "metadata": {
        "id": "hR5byiIM6EHk",
        "colab_type": "code",
        "colab": {
          "base_uri": "https://localhost:8080/",
          "height": 218
        },
        "outputId": "951b7327-f3f3-4dfd-b03a-c94dd4157d6c"
      },
      "source": [
        "#checking the columns\n",
        "\n",
        "df.columns"
      ],
      "execution_count": 5,
      "outputs": [
        {
          "output_type": "execute_result",
          "data": {
            "text/plain": [
              "Index(['ID', 'Source', 'TMC', 'Severity', 'Start_Time', 'End_Time',\n",
              "       'Start_Lat', 'Start_Lng', 'End_Lat', 'End_Lng', 'Distance(mi)',\n",
              "       'Description', 'Number', 'Street', 'Side', 'City', 'County', 'State',\n",
              "       'Zipcode', 'Country', 'Timezone', 'Airport_Code', 'Weather_Timestamp',\n",
              "       'Temperature(F)', 'Wind_Chill(F)', 'Humidity(%)', 'Pressure(in)',\n",
              "       'Visibility(mi)', 'Wind_Direction', 'Wind_Speed(mph)',\n",
              "       'Precipitation(in)', 'Weather_Condition', 'Amenity', 'Bump', 'Crossing',\n",
              "       'Give_Way', 'Junction', 'No_Exit', 'Railway', 'Roundabout', 'Station',\n",
              "       'Stop', 'Traffic_Calming', 'Traffic_Signal', 'Turning_Loop',\n",
              "       'Sunrise_Sunset', 'Civil_Twilight', 'Nautical_Twilight',\n",
              "       'Astronomical_Twilight'],\n",
              "      dtype='object')"
            ]
          },
          "metadata": {
            "tags": []
          },
          "execution_count": 5
        }
      ]
    },
    {
      "cell_type": "code",
      "metadata": {
        "id": "TDD9lc2R6jxt",
        "colab_type": "code",
        "colab": {
          "base_uri": "https://localhost:8080/",
          "height": 857
        },
        "outputId": "86509582-ade5-4238-88c1-12733c7a0342"
      },
      "source": [
        "# checking how many missing values for each column\n",
        "\n",
        "df.isnull().sum()"
      ],
      "execution_count": 6,
      "outputs": [
        {
          "output_type": "execute_result",
          "data": {
            "text/plain": [
              "ID                             0\n",
              "Source                         0\n",
              "TMC                       728071\n",
              "Severity                       0\n",
              "Start_Time                     0\n",
              "End_Time                       0\n",
              "Start_Lat                      0\n",
              "Start_Lng                      0\n",
              "End_Lat                  2246264\n",
              "End_Lng                  2246264\n",
              "Distance(mi)                   0\n",
              "Description                    1\n",
              "Number                   1917605\n",
              "Street                         0\n",
              "Side                           0\n",
              "City                          83\n",
              "County                         0\n",
              "State                          0\n",
              "Zipcode                      880\n",
              "Country                        0\n",
              "Timezone                    3163\n",
              "Airport_Code                5691\n",
              "Weather_Timestamp          36705\n",
              "Temperature(F)             56063\n",
              "Wind_Chill(F)            1852623\n",
              "Humidity(%)                59173\n",
              "Pressure(in)               48142\n",
              "Visibility(mi)             65691\n",
              "Wind_Direction             45101\n",
              "Wind_Speed(mph)           440840\n",
              "Precipitation(in)        1998358\n",
              "Weather_Condition          65932\n",
              "Amenity                        0\n",
              "Bump                           0\n",
              "Crossing                       0\n",
              "Give_Way                       0\n",
              "Junction                       0\n",
              "No_Exit                        0\n",
              "Railway                        0\n",
              "Roundabout                     0\n",
              "Station                        0\n",
              "Stop                           0\n",
              "Traffic_Calming                0\n",
              "Traffic_Signal                 0\n",
              "Turning_Loop                   0\n",
              "Sunrise_Sunset                93\n",
              "Civil_Twilight                93\n",
              "Nautical_Twilight             93\n",
              "Astronomical_Twilight         93\n",
              "dtype: int64"
            ]
          },
          "metadata": {
            "tags": []
          },
          "execution_count": 6
        }
      ]
    },
    {
      "cell_type": "code",
      "metadata": {
        "id": "pBSDqTE1SbdQ",
        "colab_type": "code",
        "colab": {}
      },
      "source": [
        "# making a copy of the original dataframe for safety purpose\n",
        "\n",
        "df1=df"
      ],
      "execution_count": 0,
      "outputs": []
    },
    {
      "cell_type": "markdown",
      "metadata": {
        "id": "b2ph182Eti9M",
        "colab_type": "text"
      },
      "source": [
        "**Split Date Attributes**"
      ]
    },
    {
      "cell_type": "code",
      "metadata": {
        "id": "CGC7QiWLs3GV",
        "colab_type": "code",
        "colab": {
          "base_uri": "https://localhost:8080/",
          "height": 151
        },
        "outputId": "bca2697e-11b2-430d-d693-2510aca4e0be"
      },
      "source": [
        "#Split the timestamp into day, month, year, hour\n",
        "\n",
        "df1['Start_Time'] = pd.to_datetime(df1['Start_Time'], format = '%Y/%m/%d %H:%M:%S')\n",
        "df1['Start_Time'] = pd.to_datetime(df1['Start_Time'],errors='coerce')\n",
        "column_1=df1.ix[:,4]\n",
        "db=pd.DataFrame({\"year\": column_1.dt.year,\n",
        "              \"month\": column_1.dt.month,\n",
        "              \"day\": column_1.dt.day,\n",
        "              \"hour\": column_1.dt.hour,\n",
        "             })\n",
        "df1=df1.drop('Start_Time',axis=1)\n",
        "df1=pd.concat([db,df1],axis=1)"
      ],
      "execution_count": 9,
      "outputs": [
        {
          "output_type": "stream",
          "text": [
            "/usr/local/lib/python3.6/dist-packages/ipykernel_launcher.py:4: FutureWarning: \n",
            ".ix is deprecated. Please use\n",
            ".loc for label based indexing or\n",
            ".iloc for positional indexing\n",
            "\n",
            "See the documentation here:\n",
            "http://pandas.pydata.org/pandas-docs/stable/user_guide/indexing.html#ix-indexer-is-deprecated\n",
            "  after removing the cwd from sys.path.\n"
          ],
          "name": "stderr"
        }
      ]
    },
    {
      "cell_type": "markdown",
      "metadata": {
        "id": "z4B07MFAWxjZ",
        "colab_type": "text"
      },
      "source": [
        "**Handling Missing Values**"
      ]
    },
    {
      "cell_type": "code",
      "metadata": {
        "id": "hyzK7jxrS-0m",
        "colab_type": "code",
        "colab": {}
      },
      "source": [
        "# drop the unnessesary rows\n",
        "\n",
        "df1=df1.drop(['TMC', 'End_Time', 'End_Lat', 'End_Lng', 'Distance(mi)', 'Description', 'Number', 'Timezone', 'Airport_Code', 'Weather_Timestamp'], axis=1)"
      ],
      "execution_count": 0,
      "outputs": []
    },
    {
      "cell_type": "code",
      "metadata": {
        "id": "_U50PqJyTPPz",
        "colab_type": "code",
        "colab": {
          "base_uri": "https://localhost:8080/",
          "height": 185
        },
        "outputId": "3f817d1d-f3ef-4a5e-bcbe-37086ee9a6e5"
      },
      "source": [
        "# after dropping check the column names\n",
        "\n",
        "df1.columns"
      ],
      "execution_count": 11,
      "outputs": [
        {
          "output_type": "execute_result",
          "data": {
            "text/plain": [
              "Index(['year', 'month', 'day', 'hour', 'ID', 'Source', 'Severity', 'Start_Lat',\n",
              "       'Start_Lng', 'Street', 'Side', 'City', 'County', 'State', 'Zipcode',\n",
              "       'Country', 'Temperature(F)', 'Wind_Chill(F)', 'Humidity(%)',\n",
              "       'Pressure(in)', 'Visibility(mi)', 'Wind_Direction', 'Wind_Speed(mph)',\n",
              "       'Precipitation(in)', 'Weather_Condition', 'Amenity', 'Bump', 'Crossing',\n",
              "       'Give_Way', 'Junction', 'No_Exit', 'Railway', 'Roundabout', 'Station',\n",
              "       'Stop', 'Traffic_Calming', 'Traffic_Signal', 'Turning_Loop',\n",
              "       'Sunrise_Sunset', 'Civil_Twilight', 'Nautical_Twilight',\n",
              "       'Astronomical_Twilight'],\n",
              "      dtype='object')"
            ]
          },
          "metadata": {
            "tags": []
          },
          "execution_count": 11
        }
      ]
    },
    {
      "cell_type": "code",
      "metadata": {
        "id": "s53UgPapTdxA",
        "colab_type": "code",
        "colab": {
          "base_uri": "https://localhost:8080/",
          "height": 739
        },
        "outputId": "97d9957d-156c-49ba-ef8c-942516e2ae92"
      },
      "source": [
        "#now again checking amount of missing values for each column\n",
        "\n",
        "df1.isnull().sum()"
      ],
      "execution_count": 12,
      "outputs": [
        {
          "output_type": "execute_result",
          "data": {
            "text/plain": [
              "year                           0\n",
              "month                          0\n",
              "day                            0\n",
              "hour                           0\n",
              "ID                             0\n",
              "Source                         0\n",
              "Severity                       0\n",
              "Start_Lat                      0\n",
              "Start_Lng                      0\n",
              "Street                         0\n",
              "Side                           0\n",
              "City                          83\n",
              "County                         0\n",
              "State                          0\n",
              "Zipcode                      880\n",
              "Country                        0\n",
              "Temperature(F)             56063\n",
              "Wind_Chill(F)            1852623\n",
              "Humidity(%)                59173\n",
              "Pressure(in)               48142\n",
              "Visibility(mi)             65691\n",
              "Wind_Direction             45101\n",
              "Wind_Speed(mph)           440840\n",
              "Precipitation(in)        1998358\n",
              "Weather_Condition          65932\n",
              "Amenity                        0\n",
              "Bump                           0\n",
              "Crossing                       0\n",
              "Give_Way                       0\n",
              "Junction                       0\n",
              "No_Exit                        0\n",
              "Railway                        0\n",
              "Roundabout                     0\n",
              "Station                        0\n",
              "Stop                           0\n",
              "Traffic_Calming                0\n",
              "Traffic_Signal                 0\n",
              "Turning_Loop                   0\n",
              "Sunrise_Sunset                93\n",
              "Civil_Twilight                93\n",
              "Nautical_Twilight             93\n",
              "Astronomical_Twilight         93\n",
              "dtype: int64"
            ]
          },
          "metadata": {
            "tags": []
          },
          "execution_count": 12
        }
      ]
    },
    {
      "cell_type": "code",
      "metadata": {
        "id": "sCAq3Hl7V5Mg",
        "colab_type": "code",
        "colab": {
          "base_uri": "https://localhost:8080/",
          "height": 34
        },
        "outputId": "9bd8616e-bbf1-4a47-fe85-e17edfb075a0"
      },
      "source": [
        "#checking how many rows in the dataset\n",
        "\n",
        "df1.shape"
      ],
      "execution_count": 13,
      "outputs": [
        {
          "output_type": "execute_result",
          "data": {
            "text/plain": [
              "(2974335, 42)"
            ]
          },
          "metadata": {
            "tags": []
          },
          "execution_count": 13
        }
      ]
    },
    {
      "cell_type": "code",
      "metadata": {
        "id": "IAJYLe6RWY1S",
        "colab_type": "code",
        "colab": {}
      },
      "source": [
        "# dropping rows with missing values for few cokumns\n",
        "\n",
        "df1=df1.dropna(how='any', subset=['City', 'Zipcode', 'Weather_Condition', 'Sunrise_Sunset', 'Civil_Twilight', 'Wind_Direction', 'Nautical_Twilight', 'Astronomical_Twilight'])"
      ],
      "execution_count": 0,
      "outputs": []
    },
    {
      "cell_type": "code",
      "metadata": {
        "id": "YPAnfAU1iMJX",
        "colab_type": "code",
        "colab": {
          "base_uri": "https://localhost:8080/",
          "height": 34
        },
        "outputId": "d10d9a63-eff3-4d50-84fc-54c14c8d6acd"
      },
      "source": [
        "#after dropping rows checking the size\n",
        "\n",
        "df1.shape"
      ],
      "execution_count": 15,
      "outputs": [
        {
          "output_type": "execute_result",
          "data": {
            "text/plain": [
              "(2902972, 42)"
            ]
          },
          "metadata": {
            "tags": []
          },
          "execution_count": 15
        }
      ]
    },
    {
      "cell_type": "code",
      "metadata": {
        "id": "XGTl81m-iP4O",
        "colab_type": "code",
        "colab": {
          "base_uri": "https://localhost:8080/",
          "height": 739
        },
        "outputId": "cfda31ef-086c-4e25-c2e5-2d905110734a"
      },
      "source": [
        "#now again checking amount of missing values for each column\n",
        "\n",
        "df1.isnull().sum()"
      ],
      "execution_count": 16,
      "outputs": [
        {
          "output_type": "execute_result",
          "data": {
            "text/plain": [
              "year                           0\n",
              "month                          0\n",
              "day                            0\n",
              "hour                           0\n",
              "ID                             0\n",
              "Source                         0\n",
              "Severity                       0\n",
              "Start_Lat                      0\n",
              "Start_Lng                      0\n",
              "Street                         0\n",
              "Side                           0\n",
              "City                           0\n",
              "County                         0\n",
              "State                          0\n",
              "Zipcode                        0\n",
              "Country                        0\n",
              "Temperature(F)              9181\n",
              "Wind_Chill(F)            1785404\n",
              "Humidity(%)                12218\n",
              "Pressure(in)                3243\n",
              "Visibility(mi)              6838\n",
              "Wind_Direction                 0\n",
              "Wind_Speed(mph)           379420\n",
              "Precipitation(in)        1937830\n",
              "Weather_Condition              0\n",
              "Amenity                        0\n",
              "Bump                           0\n",
              "Crossing                       0\n",
              "Give_Way                       0\n",
              "Junction                       0\n",
              "No_Exit                        0\n",
              "Railway                        0\n",
              "Roundabout                     0\n",
              "Station                        0\n",
              "Stop                           0\n",
              "Traffic_Calming                0\n",
              "Traffic_Signal                 0\n",
              "Turning_Loop                   0\n",
              "Sunrise_Sunset                 0\n",
              "Civil_Twilight                 0\n",
              "Nautical_Twilight              0\n",
              "Astronomical_Twilight          0\n",
              "dtype: int64"
            ]
          },
          "metadata": {
            "tags": []
          },
          "execution_count": 16
        }
      ]
    },
    {
      "cell_type": "code",
      "metadata": {
        "id": "eN_H6uEAiXoc",
        "colab_type": "code",
        "colab": {}
      },
      "source": [
        "#import linear regression module from sklearn library\n",
        "\n",
        "from sklearn.linear_model import LinearRegression\n",
        "model=LinearRegression()"
      ],
      "execution_count": 0,
      "outputs": []
    },
    {
      "cell_type": "code",
      "metadata": {
        "id": "kw0pY-miqghV",
        "colab_type": "code",
        "colab": {}
      },
      "source": [
        "#casting str type to float type for day, month, year, hour\n",
        "\n",
        "df1.year=df1.year.astype('float64')\n",
        "df1.month=df1.month.astype('float64')\n",
        "df1.day=df1.day.astype('float64')\n",
        "df1.hour=df1.hour.astype('float64')"
      ],
      "execution_count": 0,
      "outputs": []
    },
    {
      "cell_type": "code",
      "metadata": {
        "id": "PT7M_5vQ9wCr",
        "colab_type": "code",
        "colab": {}
      },
      "source": [
        "#making a copy for safety\n",
        "\n",
        "d=df1"
      ],
      "execution_count": 0,
      "outputs": []
    },
    {
      "cell_type": "code",
      "metadata": {
        "id": "yrOyMA4v_AAL",
        "colab_type": "code",
        "colab": {}
      },
      "source": [
        "#defining the regression function for filing the missing values\n",
        "\n",
        "def regression_fill(df1, y):\n",
        "  print(\"doing for \", y)\n",
        "  df2=df1[df1[y].isnull()]\n",
        "  df1=df1.dropna(subset=[y])\n",
        "  model.fit(df1[['year', 'month', 'day', 'hour', 'Start_Lat', 'Start_Lng']], df1[y])\n",
        "  Y=model.predict(df2[['year', 'month', 'day', 'hour', 'Start_Lat', 'Start_Lng']])\n",
        "  df2=df2.drop([y], axis=1)\n",
        "  df2[y]=Y\n",
        "  df1=pd.concat([df1, df2])\n",
        "  return df1"
      ],
      "execution_count": 0,
      "outputs": []
    },
    {
      "cell_type": "code",
      "metadata": {
        "id": "tZFbdkLHAMui",
        "colab_type": "code",
        "colab": {
          "base_uri": "https://localhost:8080/",
          "height": 944
        },
        "outputId": "e2af6738-6524-4df2-f297-0a2b7960071e"
      },
      "source": [
        "#filling the missing values of the rows for columns in the target list\n",
        "\n",
        "targets=['Temperature(F)', 'Wind_Chill(F)', 'Humidity(%)', 'Pressure(in)', 'Visibility(mi)', 'Wind_Speed(mph)']\n",
        "for t in targets:\n",
        "  df1=regression_fill(df1, t)"
      ],
      "execution_count": 21,
      "outputs": [
        {
          "output_type": "stream",
          "text": [
            "doing for  Temperature(F)\n"
          ],
          "name": "stdout"
        },
        {
          "output_type": "stream",
          "text": [
            "/usr/local/lib/python3.6/dist-packages/ipykernel_launcher.py:10: FutureWarning: Sorting because non-concatenation axis is not aligned. A future version\n",
            "of pandas will change to not sort by default.\n",
            "\n",
            "To accept the future behavior, pass 'sort=False'.\n",
            "\n",
            "To retain the current behavior and silence the warning, pass 'sort=True'.\n",
            "\n",
            "  # Remove the CWD from sys.path while we load stuff.\n"
          ],
          "name": "stderr"
        },
        {
          "output_type": "stream",
          "text": [
            "doing for  Wind_Chill(F)\n"
          ],
          "name": "stdout"
        },
        {
          "output_type": "stream",
          "text": [
            "/usr/local/lib/python3.6/dist-packages/ipykernel_launcher.py:10: FutureWarning: Sorting because non-concatenation axis is not aligned. A future version\n",
            "of pandas will change to not sort by default.\n",
            "\n",
            "To accept the future behavior, pass 'sort=False'.\n",
            "\n",
            "To retain the current behavior and silence the warning, pass 'sort=True'.\n",
            "\n",
            "  # Remove the CWD from sys.path while we load stuff.\n"
          ],
          "name": "stderr"
        },
        {
          "output_type": "stream",
          "text": [
            "doing for  Humidity(%)\n"
          ],
          "name": "stdout"
        },
        {
          "output_type": "stream",
          "text": [
            "/usr/local/lib/python3.6/dist-packages/ipykernel_launcher.py:10: FutureWarning: Sorting because non-concatenation axis is not aligned. A future version\n",
            "of pandas will change to not sort by default.\n",
            "\n",
            "To accept the future behavior, pass 'sort=False'.\n",
            "\n",
            "To retain the current behavior and silence the warning, pass 'sort=True'.\n",
            "\n",
            "  # Remove the CWD from sys.path while we load stuff.\n"
          ],
          "name": "stderr"
        },
        {
          "output_type": "stream",
          "text": [
            "doing for  Pressure(in)\n"
          ],
          "name": "stdout"
        },
        {
          "output_type": "stream",
          "text": [
            "/usr/local/lib/python3.6/dist-packages/ipykernel_launcher.py:10: FutureWarning: Sorting because non-concatenation axis is not aligned. A future version\n",
            "of pandas will change to not sort by default.\n",
            "\n",
            "To accept the future behavior, pass 'sort=False'.\n",
            "\n",
            "To retain the current behavior and silence the warning, pass 'sort=True'.\n",
            "\n",
            "  # Remove the CWD from sys.path while we load stuff.\n"
          ],
          "name": "stderr"
        },
        {
          "output_type": "stream",
          "text": [
            "doing for  Visibility(mi)\n"
          ],
          "name": "stdout"
        },
        {
          "output_type": "stream",
          "text": [
            "/usr/local/lib/python3.6/dist-packages/ipykernel_launcher.py:10: FutureWarning: Sorting because non-concatenation axis is not aligned. A future version\n",
            "of pandas will change to not sort by default.\n",
            "\n",
            "To accept the future behavior, pass 'sort=False'.\n",
            "\n",
            "To retain the current behavior and silence the warning, pass 'sort=True'.\n",
            "\n",
            "  # Remove the CWD from sys.path while we load stuff.\n"
          ],
          "name": "stderr"
        },
        {
          "output_type": "stream",
          "text": [
            "doing for  Wind_Speed(mph)\n"
          ],
          "name": "stdout"
        },
        {
          "output_type": "stream",
          "text": [
            "/usr/local/lib/python3.6/dist-packages/ipykernel_launcher.py:10: FutureWarning: Sorting because non-concatenation axis is not aligned. A future version\n",
            "of pandas will change to not sort by default.\n",
            "\n",
            "To accept the future behavior, pass 'sort=False'.\n",
            "\n",
            "To retain the current behavior and silence the warning, pass 'sort=True'.\n",
            "\n",
            "  # Remove the CWD from sys.path while we load stuff.\n"
          ],
          "name": "stderr"
        }
      ]
    },
    {
      "cell_type": "code",
      "metadata": {
        "id": "NxZu5CWqMPvh",
        "colab_type": "code",
        "colab": {}
      },
      "source": [
        "#replacing missing values of precipitation with 0 as they represent no precipition\n",
        "\n",
        "df1['Precipitation(in)'].fillna(0, inplace=True)"
      ],
      "execution_count": 0,
      "outputs": []
    },
    {
      "cell_type": "code",
      "metadata": {
        "id": "g26i5PNiGvx6",
        "colab_type": "code",
        "colab": {
          "base_uri": "https://localhost:8080/",
          "height": 739
        },
        "outputId": "490158dc-7473-44d4-f2af-768c15c2bc85"
      },
      "source": [
        "#now checking for missing values which shows there is no missing value\n",
        "\n",
        "df1.isnull().sum()"
      ],
      "execution_count": 23,
      "outputs": [
        {
          "output_type": "execute_result",
          "data": {
            "text/plain": [
              "Amenity                  0\n",
              "Astronomical_Twilight    0\n",
              "Bump                     0\n",
              "City                     0\n",
              "Civil_Twilight           0\n",
              "Country                  0\n",
              "County                   0\n",
              "Crossing                 0\n",
              "Give_Way                 0\n",
              "Humidity(%)              0\n",
              "ID                       0\n",
              "Junction                 0\n",
              "Nautical_Twilight        0\n",
              "No_Exit                  0\n",
              "Precipitation(in)        0\n",
              "Pressure(in)             0\n",
              "Railway                  0\n",
              "Roundabout               0\n",
              "Severity                 0\n",
              "Side                     0\n",
              "Source                   0\n",
              "Start_Lat                0\n",
              "Start_Lng                0\n",
              "State                    0\n",
              "Station                  0\n",
              "Stop                     0\n",
              "Street                   0\n",
              "Sunrise_Sunset           0\n",
              "Temperature(F)           0\n",
              "Traffic_Calming          0\n",
              "Traffic_Signal           0\n",
              "Turning_Loop             0\n",
              "Visibility(mi)           0\n",
              "Weather_Condition        0\n",
              "Wind_Chill(F)            0\n",
              "Wind_Direction           0\n",
              "Wind_Speed(mph)          0\n",
              "Zipcode                  0\n",
              "day                      0\n",
              "hour                     0\n",
              "month                    0\n",
              "year                     0\n",
              "dtype: int64"
            ]
          },
          "metadata": {
            "tags": []
          },
          "execution_count": 23
        }
      ]
    },
    {
      "cell_type": "markdown",
      "metadata": {
        "id": "5TXUyKhvU7Rq",
        "colab_type": "text"
      },
      "source": [
        "**Converting all categorical value to numerical value**"
      ]
    },
    {
      "cell_type": "code",
      "metadata": {
        "id": "-gWkyogqHFYp",
        "colab_type": "code",
        "colab": {
          "base_uri": "https://localhost:8080/",
          "height": 739
        },
        "outputId": "6322d42c-9e33-4a69-ea33-801ba1efff10"
      },
      "source": [
        "#checking datatype of each column\n",
        "\n",
        "df1.dtypes"
      ],
      "execution_count": 24,
      "outputs": [
        {
          "output_type": "execute_result",
          "data": {
            "text/plain": [
              "Amenity                     bool\n",
              "Astronomical_Twilight     object\n",
              "Bump                        bool\n",
              "City                      object\n",
              "Civil_Twilight            object\n",
              "Country                   object\n",
              "County                    object\n",
              "Crossing                    bool\n",
              "Give_Way                    bool\n",
              "Humidity(%)              float64\n",
              "ID                        object\n",
              "Junction                    bool\n",
              "Nautical_Twilight         object\n",
              "No_Exit                     bool\n",
              "Precipitation(in)        float64\n",
              "Pressure(in)             float64\n",
              "Railway                     bool\n",
              "Roundabout                  bool\n",
              "Severity                   int64\n",
              "Side                      object\n",
              "Source                    object\n",
              "Start_Lat                float64\n",
              "Start_Lng                float64\n",
              "State                     object\n",
              "Station                     bool\n",
              "Stop                        bool\n",
              "Street                    object\n",
              "Sunrise_Sunset            object\n",
              "Temperature(F)           float64\n",
              "Traffic_Calming             bool\n",
              "Traffic_Signal              bool\n",
              "Turning_Loop                bool\n",
              "Visibility(mi)           float64\n",
              "Weather_Condition         object\n",
              "Wind_Chill(F)            float64\n",
              "Wind_Direction            object\n",
              "Wind_Speed(mph)          float64\n",
              "Zipcode                   object\n",
              "day                      float64\n",
              "hour                     float64\n",
              "month                    float64\n",
              "year                     float64\n",
              "dtype: object"
            ]
          },
          "metadata": {
            "tags": []
          },
          "execution_count": 24
        }
      ]
    },
    {
      "cell_type": "code",
      "metadata": {
        "id": "9bwWAvcHYlrb",
        "colab_type": "code",
        "colab": {}
      },
      "source": [
        "#importing labelencoder module from sklearn\n",
        "\n",
        "from sklearn.preprocessing import LabelEncoder\n",
        "encoder=LabelEncoder()\n",
        "\n",
        "#lable encoding categorical values into numerical values using LabelEncoder\n",
        "\n",
        "for c in df1.columns:\n",
        "  if df1[c].dtype=='object' or df1[c].dtype=='bool':\n",
        "    df1[c]=encoder.fit_transform(df1[c]).astype('int32')"
      ],
      "execution_count": 0,
      "outputs": []
    },
    {
      "cell_type": "code",
      "metadata": {
        "id": "VTp9vvcEYK48",
        "colab_type": "code",
        "colab": {
          "base_uri": "https://localhost:8080/",
          "height": 215
        },
        "outputId": "1aba6cd0-f4e2-4e22-8a2c-4772d08e6ebe"
      },
      "source": [
        "#checking how it looks like after encoding\n",
        "\n",
        "df1.head()"
      ],
      "execution_count": 26,
      "outputs": [
        {
          "output_type": "execute_result",
          "data": {
            "text/html": [
              "<div>\n",
              "<style scoped>\n",
              "    .dataframe tbody tr th:only-of-type {\n",
              "        vertical-align: middle;\n",
              "    }\n",
              "\n",
              "    .dataframe tbody tr th {\n",
              "        vertical-align: top;\n",
              "    }\n",
              "\n",
              "    .dataframe thead th {\n",
              "        text-align: right;\n",
              "    }\n",
              "</style>\n",
              "<table border=\"1\" class=\"dataframe\">\n",
              "  <thead>\n",
              "    <tr style=\"text-align: right;\">\n",
              "      <th></th>\n",
              "      <th>Amenity</th>\n",
              "      <th>Astronomical_Twilight</th>\n",
              "      <th>Bump</th>\n",
              "      <th>City</th>\n",
              "      <th>Civil_Twilight</th>\n",
              "      <th>Country</th>\n",
              "      <th>County</th>\n",
              "      <th>Crossing</th>\n",
              "      <th>Give_Way</th>\n",
              "      <th>Humidity(%)</th>\n",
              "      <th>ID</th>\n",
              "      <th>Junction</th>\n",
              "      <th>Nautical_Twilight</th>\n",
              "      <th>No_Exit</th>\n",
              "      <th>Precipitation(in)</th>\n",
              "      <th>Pressure(in)</th>\n",
              "      <th>Railway</th>\n",
              "      <th>Roundabout</th>\n",
              "      <th>Severity</th>\n",
              "      <th>Side</th>\n",
              "      <th>Source</th>\n",
              "      <th>Start_Lat</th>\n",
              "      <th>Start_Lng</th>\n",
              "      <th>State</th>\n",
              "      <th>Station</th>\n",
              "      <th>Stop</th>\n",
              "      <th>Street</th>\n",
              "      <th>Sunrise_Sunset</th>\n",
              "      <th>Temperature(F)</th>\n",
              "      <th>Traffic_Calming</th>\n",
              "      <th>Traffic_Signal</th>\n",
              "      <th>Turning_Loop</th>\n",
              "      <th>Visibility(mi)</th>\n",
              "      <th>Weather_Condition</th>\n",
              "      <th>Wind_Chill(F)</th>\n",
              "      <th>Wind_Direction</th>\n",
              "      <th>Wind_Speed(mph)</th>\n",
              "      <th>Zipcode</th>\n",
              "      <th>day</th>\n",
              "      <th>hour</th>\n",
              "      <th>month</th>\n",
              "      <th>year</th>\n",
              "    </tr>\n",
              "  </thead>\n",
              "  <tbody>\n",
              "    <tr>\n",
              "      <th>2</th>\n",
              "      <td>0</td>\n",
              "      <td>0</td>\n",
              "      <td>0</td>\n",
              "      <td>11233</td>\n",
              "      <td>1</td>\n",
              "      <td>0</td>\n",
              "      <td>320</td>\n",
              "      <td>0</td>\n",
              "      <td>0</td>\n",
              "      <td>100.0</td>\n",
              "      <td>2141912</td>\n",
              "      <td>0</td>\n",
              "      <td>0</td>\n",
              "      <td>0</td>\n",
              "      <td>0.00</td>\n",
              "      <td>29.67</td>\n",
              "      <td>0</td>\n",
              "      <td>0</td>\n",
              "      <td>2</td>\n",
              "      <td>2</td>\n",
              "      <td>1</td>\n",
              "      <td>39.063148</td>\n",
              "      <td>-84.032608</td>\n",
              "      <td>33</td>\n",
              "      <td>0</td>\n",
              "      <td>0</td>\n",
              "      <td>136961</td>\n",
              "      <td>1</td>\n",
              "      <td>36.0</td>\n",
              "      <td>0</td>\n",
              "      <td>1</td>\n",
              "      <td>0</td>\n",
              "      <td>10.0</td>\n",
              "      <td>75</td>\n",
              "      <td>33.3</td>\n",
              "      <td>16</td>\n",
              "      <td>3.5</td>\n",
              "      <td>191942</td>\n",
              "      <td>8.0</td>\n",
              "      <td>6.0</td>\n",
              "      <td>2.0</td>\n",
              "      <td>2016.0</td>\n",
              "    </tr>\n",
              "    <tr>\n",
              "      <th>3</th>\n",
              "      <td>0</td>\n",
              "      <td>0</td>\n",
              "      <td>0</td>\n",
              "      <td>2480</td>\n",
              "      <td>0</td>\n",
              "      <td>0</td>\n",
              "      <td>1038</td>\n",
              "      <td>0</td>\n",
              "      <td>0</td>\n",
              "      <td>96.0</td>\n",
              "      <td>2250847</td>\n",
              "      <td>0</td>\n",
              "      <td>0</td>\n",
              "      <td>0</td>\n",
              "      <td>0.00</td>\n",
              "      <td>29.64</td>\n",
              "      <td>0</td>\n",
              "      <td>0</td>\n",
              "      <td>3</td>\n",
              "      <td>2</td>\n",
              "      <td>1</td>\n",
              "      <td>39.747753</td>\n",
              "      <td>-84.205582</td>\n",
              "      <td>33</td>\n",
              "      <td>0</td>\n",
              "      <td>0</td>\n",
              "      <td>79187</td>\n",
              "      <td>1</td>\n",
              "      <td>35.1</td>\n",
              "      <td>0</td>\n",
              "      <td>0</td>\n",
              "      <td>0</td>\n",
              "      <td>9.0</td>\n",
              "      <td>72</td>\n",
              "      <td>31.0</td>\n",
              "      <td>16</td>\n",
              "      <td>4.6</td>\n",
              "      <td>195333</td>\n",
              "      <td>8.0</td>\n",
              "      <td>7.0</td>\n",
              "      <td>2.0</td>\n",
              "      <td>2016.0</td>\n",
              "    </tr>\n",
              "    <tr>\n",
              "      <th>4</th>\n",
              "      <td>0</td>\n",
              "      <td>0</td>\n",
              "      <td>0</td>\n",
              "      <td>2480</td>\n",
              "      <td>0</td>\n",
              "      <td>0</td>\n",
              "      <td>1038</td>\n",
              "      <td>0</td>\n",
              "      <td>0</td>\n",
              "      <td>89.0</td>\n",
              "      <td>2359812</td>\n",
              "      <td>0</td>\n",
              "      <td>0</td>\n",
              "      <td>0</td>\n",
              "      <td>0.00</td>\n",
              "      <td>29.65</td>\n",
              "      <td>0</td>\n",
              "      <td>0</td>\n",
              "      <td>2</td>\n",
              "      <td>2</td>\n",
              "      <td>1</td>\n",
              "      <td>39.627781</td>\n",
              "      <td>-84.188354</td>\n",
              "      <td>33</td>\n",
              "      <td>0</td>\n",
              "      <td>0</td>\n",
              "      <td>93710</td>\n",
              "      <td>0</td>\n",
              "      <td>36.0</td>\n",
              "      <td>0</td>\n",
              "      <td>1</td>\n",
              "      <td>0</td>\n",
              "      <td>6.0</td>\n",
              "      <td>72</td>\n",
              "      <td>33.3</td>\n",
              "      <td>16</td>\n",
              "      <td>3.5</td>\n",
              "      <td>196295</td>\n",
              "      <td>8.0</td>\n",
              "      <td>7.0</td>\n",
              "      <td>2.0</td>\n",
              "      <td>2016.0</td>\n",
              "    </tr>\n",
              "    <tr>\n",
              "      <th>5</th>\n",
              "      <td>0</td>\n",
              "      <td>0</td>\n",
              "      <td>0</td>\n",
              "      <td>11096</td>\n",
              "      <td>0</td>\n",
              "      <td>0</td>\n",
              "      <td>546</td>\n",
              "      <td>0</td>\n",
              "      <td>0</td>\n",
              "      <td>97.0</td>\n",
              "      <td>2468732</td>\n",
              "      <td>0</td>\n",
              "      <td>0</td>\n",
              "      <td>0</td>\n",
              "      <td>0.03</td>\n",
              "      <td>29.63</td>\n",
              "      <td>0</td>\n",
              "      <td>0</td>\n",
              "      <td>3</td>\n",
              "      <td>2</td>\n",
              "      <td>1</td>\n",
              "      <td>40.100590</td>\n",
              "      <td>-82.925194</td>\n",
              "      <td>33</td>\n",
              "      <td>0</td>\n",
              "      <td>0</td>\n",
              "      <td>154222</td>\n",
              "      <td>0</td>\n",
              "      <td>37.9</td>\n",
              "      <td>0</td>\n",
              "      <td>0</td>\n",
              "      <td>0</td>\n",
              "      <td>7.0</td>\n",
              "      <td>52</td>\n",
              "      <td>35.5</td>\n",
              "      <td>15</td>\n",
              "      <td>3.5</td>\n",
              "      <td>186616</td>\n",
              "      <td>8.0</td>\n",
              "      <td>7.0</td>\n",
              "      <td>2.0</td>\n",
              "      <td>2016.0</td>\n",
              "    </tr>\n",
              "    <tr>\n",
              "      <th>6</th>\n",
              "      <td>0</td>\n",
              "      <td>0</td>\n",
              "      <td>0</td>\n",
              "      <td>2480</td>\n",
              "      <td>0</td>\n",
              "      <td>0</td>\n",
              "      <td>1038</td>\n",
              "      <td>0</td>\n",
              "      <td>0</td>\n",
              "      <td>100.0</td>\n",
              "      <td>2577760</td>\n",
              "      <td>0</td>\n",
              "      <td>0</td>\n",
              "      <td>0</td>\n",
              "      <td>0.00</td>\n",
              "      <td>29.66</td>\n",
              "      <td>0</td>\n",
              "      <td>0</td>\n",
              "      <td>2</td>\n",
              "      <td>2</td>\n",
              "      <td>1</td>\n",
              "      <td>39.758274</td>\n",
              "      <td>-84.230507</td>\n",
              "      <td>33</td>\n",
              "      <td>0</td>\n",
              "      <td>0</td>\n",
              "      <td>102736</td>\n",
              "      <td>0</td>\n",
              "      <td>34.0</td>\n",
              "      <td>0</td>\n",
              "      <td>0</td>\n",
              "      <td>0</td>\n",
              "      <td>7.0</td>\n",
              "      <td>75</td>\n",
              "      <td>31.0</td>\n",
              "      <td>22</td>\n",
              "      <td>3.5</td>\n",
              "      <td>195423</td>\n",
              "      <td>8.0</td>\n",
              "      <td>7.0</td>\n",
              "      <td>2.0</td>\n",
              "      <td>2016.0</td>\n",
              "    </tr>\n",
              "  </tbody>\n",
              "</table>\n",
              "</div>"
            ],
            "text/plain": [
              "   Amenity  Astronomical_Twilight  Bump   City  ...  day  hour  month    year\n",
              "2        0                      0     0  11233  ...  8.0   6.0    2.0  2016.0\n",
              "3        0                      0     0   2480  ...  8.0   7.0    2.0  2016.0\n",
              "4        0                      0     0   2480  ...  8.0   7.0    2.0  2016.0\n",
              "5        0                      0     0  11096  ...  8.0   7.0    2.0  2016.0\n",
              "6        0                      0     0   2480  ...  8.0   7.0    2.0  2016.0\n",
              "\n",
              "[5 rows x 42 columns]"
            ]
          },
          "metadata": {
            "tags": []
          },
          "execution_count": 26
        }
      ]
    },
    {
      "cell_type": "code",
      "metadata": {
        "id": "Bhqa71bYYNno",
        "colab_type": "code",
        "colab": {
          "base_uri": "https://localhost:8080/",
          "height": 739
        },
        "outputId": "46c0a431-b4b6-4c85-9606-6e935197cc33"
      },
      "source": [
        "#now checking datatypes of each column which shows all are int or float type i.e. numerical\n",
        "\n",
        "df1.dtypes"
      ],
      "execution_count": 27,
      "outputs": [
        {
          "output_type": "execute_result",
          "data": {
            "text/plain": [
              "Amenity                    int32\n",
              "Astronomical_Twilight      int32\n",
              "Bump                       int32\n",
              "City                       int32\n",
              "Civil_Twilight             int32\n",
              "Country                    int32\n",
              "County                     int32\n",
              "Crossing                   int32\n",
              "Give_Way                   int32\n",
              "Humidity(%)              float64\n",
              "ID                         int32\n",
              "Junction                   int32\n",
              "Nautical_Twilight          int32\n",
              "No_Exit                    int32\n",
              "Precipitation(in)        float64\n",
              "Pressure(in)             float64\n",
              "Railway                    int32\n",
              "Roundabout                 int32\n",
              "Severity                   int64\n",
              "Side                       int32\n",
              "Source                     int32\n",
              "Start_Lat                float64\n",
              "Start_Lng                float64\n",
              "State                      int32\n",
              "Station                    int32\n",
              "Stop                       int32\n",
              "Street                     int32\n",
              "Sunrise_Sunset             int32\n",
              "Temperature(F)           float64\n",
              "Traffic_Calming            int32\n",
              "Traffic_Signal             int32\n",
              "Turning_Loop               int32\n",
              "Visibility(mi)           float64\n",
              "Weather_Condition          int32\n",
              "Wind_Chill(F)            float64\n",
              "Wind_Direction             int32\n",
              "Wind_Speed(mph)          float64\n",
              "Zipcode                    int32\n",
              "day                      float64\n",
              "hour                     float64\n",
              "month                    float64\n",
              "year                     float64\n",
              "dtype: object"
            ]
          },
          "metadata": {
            "tags": []
          },
          "execution_count": 27
        }
      ]
    },
    {
      "cell_type": "code",
      "metadata": {
        "id": "A5eDSuzMcvhX",
        "colab_type": "code",
        "colab": {}
      },
      "source": [
        "#sorting the datfeame based on the original ID and restting the index\n",
        "\n",
        "df1=df1.sort_values(by=['ID']).reset_index(drop=True)"
      ],
      "execution_count": 0,
      "outputs": []
    },
    {
      "cell_type": "code",
      "metadata": {
        "id": "7OqzF0hBddnn",
        "colab_type": "code",
        "colab": {
          "base_uri": "https://localhost:8080/",
          "height": 34
        },
        "outputId": "476a8973-9b16-4a75-f355-9b35343cd49b"
      },
      "source": [
        "#checking the final shape of the dataset\n",
        "\n",
        "df1.shape"
      ],
      "execution_count": 29,
      "outputs": [
        {
          "output_type": "execute_result",
          "data": {
            "text/plain": [
              "(2902972, 42)"
            ]
          },
          "metadata": {
            "tags": []
          },
          "execution_count": 29
        }
      ]
    },
    {
      "cell_type": "code",
      "metadata": {
        "id": "aQEaS3lYg9tF",
        "colab_type": "code",
        "colab": {
          "base_uri": "https://localhost:8080/",
          "height": 215
        },
        "outputId": "43cd562c-9853-48d2-c53e-0945d701a068"
      },
      "source": [
        "#how the preprocessed data looks\n",
        "\n",
        "df1.head()"
      ],
      "execution_count": 30,
      "outputs": [
        {
          "output_type": "execute_result",
          "data": {
            "text/html": [
              "<div>\n",
              "<style scoped>\n",
              "    .dataframe tbody tr th:only-of-type {\n",
              "        vertical-align: middle;\n",
              "    }\n",
              "\n",
              "    .dataframe tbody tr th {\n",
              "        vertical-align: top;\n",
              "    }\n",
              "\n",
              "    .dataframe thead th {\n",
              "        text-align: right;\n",
              "    }\n",
              "</style>\n",
              "<table border=\"1\" class=\"dataframe\">\n",
              "  <thead>\n",
              "    <tr style=\"text-align: right;\">\n",
              "      <th></th>\n",
              "      <th>Amenity</th>\n",
              "      <th>Astronomical_Twilight</th>\n",
              "      <th>Bump</th>\n",
              "      <th>City</th>\n",
              "      <th>Civil_Twilight</th>\n",
              "      <th>Country</th>\n",
              "      <th>County</th>\n",
              "      <th>Crossing</th>\n",
              "      <th>Give_Way</th>\n",
              "      <th>Humidity(%)</th>\n",
              "      <th>ID</th>\n",
              "      <th>Junction</th>\n",
              "      <th>Nautical_Twilight</th>\n",
              "      <th>No_Exit</th>\n",
              "      <th>Precipitation(in)</th>\n",
              "      <th>Pressure(in)</th>\n",
              "      <th>Railway</th>\n",
              "      <th>Roundabout</th>\n",
              "      <th>Severity</th>\n",
              "      <th>Side</th>\n",
              "      <th>Source</th>\n",
              "      <th>Start_Lat</th>\n",
              "      <th>Start_Lng</th>\n",
              "      <th>State</th>\n",
              "      <th>Station</th>\n",
              "      <th>Stop</th>\n",
              "      <th>Street</th>\n",
              "      <th>Sunrise_Sunset</th>\n",
              "      <th>Temperature(F)</th>\n",
              "      <th>Traffic_Calming</th>\n",
              "      <th>Traffic_Signal</th>\n",
              "      <th>Turning_Loop</th>\n",
              "      <th>Visibility(mi)</th>\n",
              "      <th>Weather_Condition</th>\n",
              "      <th>Wind_Chill(F)</th>\n",
              "      <th>Wind_Direction</th>\n",
              "      <th>Wind_Speed(mph)</th>\n",
              "      <th>Zipcode</th>\n",
              "      <th>day</th>\n",
              "      <th>hour</th>\n",
              "      <th>month</th>\n",
              "      <th>year</th>\n",
              "    </tr>\n",
              "  </thead>\n",
              "  <tbody>\n",
              "    <tr>\n",
              "      <th>0</th>\n",
              "      <td>0</td>\n",
              "      <td>1</td>\n",
              "      <td>0</td>\n",
              "      <td>2480</td>\n",
              "      <td>1</td>\n",
              "      <td>0</td>\n",
              "      <td>1038</td>\n",
              "      <td>0</td>\n",
              "      <td>0</td>\n",
              "      <td>91.0</td>\n",
              "      <td>0</td>\n",
              "      <td>0</td>\n",
              "      <td>1</td>\n",
              "      <td>0</td>\n",
              "      <td>0.02</td>\n",
              "      <td>29.68</td>\n",
              "      <td>0</td>\n",
              "      <td>0</td>\n",
              "      <td>3</td>\n",
              "      <td>2</td>\n",
              "      <td>1</td>\n",
              "      <td>39.865147</td>\n",
              "      <td>-84.058723</td>\n",
              "      <td>33</td>\n",
              "      <td>0</td>\n",
              "      <td>0</td>\n",
              "      <td>79171</td>\n",
              "      <td>1</td>\n",
              "      <td>36.9</td>\n",
              "      <td>0</td>\n",
              "      <td>0</td>\n",
              "      <td>0</td>\n",
              "      <td>10.0</td>\n",
              "      <td>52</td>\n",
              "      <td>6.963939</td>\n",
              "      <td>1</td>\n",
              "      <td>9.77103</td>\n",
              "      <td>195786</td>\n",
              "      <td>8.0</td>\n",
              "      <td>5.0</td>\n",
              "      <td>2.0</td>\n",
              "      <td>2016.0</td>\n",
              "    </tr>\n",
              "    <tr>\n",
              "      <th>1</th>\n",
              "      <td>0</td>\n",
              "      <td>0</td>\n",
              "      <td>0</td>\n",
              "      <td>11096</td>\n",
              "      <td>0</td>\n",
              "      <td>0</td>\n",
              "      <td>546</td>\n",
              "      <td>0</td>\n",
              "      <td>0</td>\n",
              "      <td>100.0</td>\n",
              "      <td>1</td>\n",
              "      <td>0</td>\n",
              "      <td>0</td>\n",
              "      <td>0</td>\n",
              "      <td>0.02</td>\n",
              "      <td>29.62</td>\n",
              "      <td>0</td>\n",
              "      <td>0</td>\n",
              "      <td>3</td>\n",
              "      <td>2</td>\n",
              "      <td>1</td>\n",
              "      <td>40.100590</td>\n",
              "      <td>-82.925194</td>\n",
              "      <td>33</td>\n",
              "      <td>0</td>\n",
              "      <td>0</td>\n",
              "      <td>154222</td>\n",
              "      <td>0</td>\n",
              "      <td>37.4</td>\n",
              "      <td>0</td>\n",
              "      <td>0</td>\n",
              "      <td>0</td>\n",
              "      <td>3.0</td>\n",
              "      <td>52</td>\n",
              "      <td>33.800000</td>\n",
              "      <td>15</td>\n",
              "      <td>4.60000</td>\n",
              "      <td>186616</td>\n",
              "      <td>8.0</td>\n",
              "      <td>8.0</td>\n",
              "      <td>2.0</td>\n",
              "      <td>2016.0</td>\n",
              "    </tr>\n",
              "    <tr>\n",
              "      <th>2</th>\n",
              "      <td>0</td>\n",
              "      <td>0</td>\n",
              "      <td>0</td>\n",
              "      <td>2480</td>\n",
              "      <td>0</td>\n",
              "      <td>0</td>\n",
              "      <td>1038</td>\n",
              "      <td>0</td>\n",
              "      <td>0</td>\n",
              "      <td>87.0</td>\n",
              "      <td>2</td>\n",
              "      <td>0</td>\n",
              "      <td>0</td>\n",
              "      <td>0</td>\n",
              "      <td>0.00</td>\n",
              "      <td>30.28</td>\n",
              "      <td>0</td>\n",
              "      <td>0</td>\n",
              "      <td>2</td>\n",
              "      <td>2</td>\n",
              "      <td>1</td>\n",
              "      <td>39.749916</td>\n",
              "      <td>-84.139359</td>\n",
              "      <td>33</td>\n",
              "      <td>0</td>\n",
              "      <td>0</td>\n",
              "      <td>143984</td>\n",
              "      <td>0</td>\n",
              "      <td>7.5</td>\n",
              "      <td>0</td>\n",
              "      <td>0</td>\n",
              "      <td>0</td>\n",
              "      <td>10.0</td>\n",
              "      <td>88</td>\n",
              "      <td>-1.100000</td>\n",
              "      <td>15</td>\n",
              "      <td>4.60000</td>\n",
              "      <td>194877</td>\n",
              "      <td>11.0</td>\n",
              "      <td>8.0</td>\n",
              "      <td>2.0</td>\n",
              "      <td>2016.0</td>\n",
              "    </tr>\n",
              "    <tr>\n",
              "      <th>3</th>\n",
              "      <td>0</td>\n",
              "      <td>0</td>\n",
              "      <td>0</td>\n",
              "      <td>3038</td>\n",
              "      <td>0</td>\n",
              "      <td>0</td>\n",
              "      <td>493</td>\n",
              "      <td>0</td>\n",
              "      <td>0</td>\n",
              "      <td>34.0</td>\n",
              "      <td>3</td>\n",
              "      <td>0</td>\n",
              "      <td>0</td>\n",
              "      <td>0</td>\n",
              "      <td>0.00</td>\n",
              "      <td>30.02</td>\n",
              "      <td>0</td>\n",
              "      <td>0</td>\n",
              "      <td>2</td>\n",
              "      <td>2</td>\n",
              "      <td>1</td>\n",
              "      <td>38.653061</td>\n",
              "      <td>-121.070541</td>\n",
              "      <td>3</td>\n",
              "      <td>0</td>\n",
              "      <td>0</td>\n",
              "      <td>85789</td>\n",
              "      <td>0</td>\n",
              "      <td>77.0</td>\n",
              "      <td>0</td>\n",
              "      <td>0</td>\n",
              "      <td>0</td>\n",
              "      <td>10.0</td>\n",
              "      <td>5</td>\n",
              "      <td>22.901463</td>\n",
              "      <td>16</td>\n",
              "      <td>3.50000</td>\n",
              "      <td>348295</td>\n",
              "      <td>23.0</td>\n",
              "      <td>10.0</td>\n",
              "      <td>6.0</td>\n",
              "      <td>2016.0</td>\n",
              "    </tr>\n",
              "    <tr>\n",
              "      <th>4</th>\n",
              "      <td>0</td>\n",
              "      <td>0</td>\n",
              "      <td>0</td>\n",
              "      <td>11058</td>\n",
              "      <td>0</td>\n",
              "      <td>0</td>\n",
              "      <td>1698</td>\n",
              "      <td>0</td>\n",
              "      <td>0</td>\n",
              "      <td>71.0</td>\n",
              "      <td>4</td>\n",
              "      <td>0</td>\n",
              "      <td>0</td>\n",
              "      <td>0</td>\n",
              "      <td>0.00</td>\n",
              "      <td>30.09</td>\n",
              "      <td>0</td>\n",
              "      <td>0</td>\n",
              "      <td>3</td>\n",
              "      <td>2</td>\n",
              "      <td>1</td>\n",
              "      <td>38.574406</td>\n",
              "      <td>-121.577354</td>\n",
              "      <td>3</td>\n",
              "      <td>0</td>\n",
              "      <td>0</td>\n",
              "      <td>79215</td>\n",
              "      <td>0</td>\n",
              "      <td>46.0</td>\n",
              "      <td>0</td>\n",
              "      <td>0</td>\n",
              "      <td>0</td>\n",
              "      <td>10.0</td>\n",
              "      <td>5</td>\n",
              "      <td>41.900000</td>\n",
              "      <td>10</td>\n",
              "      <td>8.10000</td>\n",
              "      <td>347863</td>\n",
              "      <td>6.0</td>\n",
              "      <td>16.0</td>\n",
              "      <td>1.0</td>\n",
              "      <td>2017.0</td>\n",
              "    </tr>\n",
              "  </tbody>\n",
              "</table>\n",
              "</div>"
            ],
            "text/plain": [
              "   Amenity  Astronomical_Twilight  Bump   City  ...   day  hour  month    year\n",
              "0        0                      1     0   2480  ...   8.0   5.0    2.0  2016.0\n",
              "1        0                      0     0  11096  ...   8.0   8.0    2.0  2016.0\n",
              "2        0                      0     0   2480  ...  11.0   8.0    2.0  2016.0\n",
              "3        0                      0     0   3038  ...  23.0  10.0    6.0  2016.0\n",
              "4        0                      0     0  11058  ...   6.0  16.0    1.0  2017.0\n",
              "\n",
              "[5 rows x 42 columns]"
            ]
          },
          "metadata": {
            "tags": []
          },
          "execution_count": 30
        }
      ]
    },
    {
      "cell_type": "code",
      "metadata": {
        "id": "o8Yj5YWhYfnA",
        "colab_type": "code",
        "colab": {}
      },
      "source": [
        "#converting the dataset into csv file\n",
        "\n",
        "df1.to_csv(\"preprocessed_data.csv\")"
      ],
      "execution_count": 0,
      "outputs": []
    },
    {
      "cell_type": "code",
      "metadata": {
        "id": "CME5w5sIZjQP",
        "colab_type": "code",
        "colab": {}
      },
      "source": [
        ""
      ],
      "execution_count": 0,
      "outputs": []
    }
  ]
}